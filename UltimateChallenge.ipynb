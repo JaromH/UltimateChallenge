{
 "cells": [
  {
   "cell_type": "markdown",
   "id": "de00b6b8",
   "metadata": {},
   "source": [
    "# Ultimate Data Science Challenge<a id='Ultimate'></a>"
   ]
  },
  {
   "cell_type": "markdown",
   "id": "c205ef48",
   "metadata": {},
   "source": [
    "## Contents<a id='Contents'></a>\n",
    "* [Ultimate Data Science Challenge](#Ultimate)\n",
    "  * [Contents](#Contents)\n",
    "  * [Introduction](#Introduction)\n",
    "  * [Imports](#Imports)\n",
    "  * [Part 1: Data Wrangling and EDA](#DataEDA)\n",
    "      * [Problem](#Problem)\n",
    "      * [Load the Data](#Load_the_Data)\n",
    "      * [Data Wrangling](#Data_Wrangling)\n",
    "      * [Exploratory Data Analysis](#EDA)\n",
    "      * [Summary](#Summary)\n",
    "  * [Part 2: Experiment and Metrics Design](#EMD)\n",
    "      * [Question 1](#Q1)\n",
    "      * [Question 2](#Q2)\n",
    "  * [Part 3: Predictive Modeling](#PM)\n",
    "      * [Problem](#Problem3)\n",
    "      * [Load the Data](#Load_the_Data3)\n",
    "      * [Data Wrangling](#Data_Wrangling3)\n",
    "      * [Exploratory Data Analysis](#EDA3)\n",
    "      * [Modeling](#Model3)\n",
    "      * [Conclusions](#Con3)"
   ]
  },
  {
   "cell_type": "markdown",
   "id": "60820201",
   "metadata": {},
   "source": [
    "## Introduction<a id='Introduction'></a>"
   ]
  },
  {
   "cell_type": "markdown",
   "id": "7b0c0182",
   "metadata": {},
   "source": [
    "This data science challenge consists of three different parts focusing on exploratory data analysis, experiment and metrics design, and predictive modeling, respectively."
   ]
  },
  {
   "cell_type": "markdown",
   "id": "af2e5620",
   "metadata": {},
   "source": [
    "## Imports<a id='Imports'></a>"
   ]
  },
  {
   "cell_type": "code",
   "execution_count": 1,
   "id": "8fed59ef",
   "metadata": {},
   "outputs": [
    {
     "name": "stderr",
     "output_type": "stream",
     "text": [
      "C:\\Users\\jmhat\\anaconda3\\lib\\site-packages\\statsmodels\\tsa\\base\\tsa_model.py:7: FutureWarning: pandas.Int64Index is deprecated and will be removed from pandas in a future version. Use pandas.Index with the appropriate dtype instead.\n",
      "  from pandas import (to_datetime, Int64Index, DatetimeIndex, Period,\n",
      "C:\\Users\\jmhat\\anaconda3\\lib\\site-packages\\statsmodels\\tsa\\base\\tsa_model.py:7: FutureWarning: pandas.Float64Index is deprecated and will be removed from pandas in a future version. Use pandas.Index with the appropriate dtype instead.\n",
      "  from pandas import (to_datetime, Int64Index, DatetimeIndex, Period,\n"
     ]
    }
   ],
   "source": [
    "import pandas as pd\n",
    "import numpy as np\n",
    "import matplotlib.pyplot as plt\n",
    "import seaborn as sns\n",
    "import os\n",
    "import json\n",
    "from statsmodels.tsa.stattools import adfuller\n",
    "from statsmodels.graphics import tsaplots\n",
    "from statsmodels.tsa.seasonal import seasonal_decompose\n",
    "from sklearn.preprocessing import OneHotEncoder\n",
    "from datetime import datetime\n",
    "from dateutil import relativedelta\n",
    "from sklearn.model_selection import train_test_split\n",
    "from sklearn.preprocessing import StandardScaler \n",
    "from sklearn.neighbors import KNeighborsClassifier\n",
    "from sklearn.metrics import classification_report, confusion_matrix, accuracy_score\n",
    "from sklearn.ensemble import RandomForestClassifier\n",
    "from sklearn import metrics\n",
    "from sklearn import svm\n",
    "from sklearn.model_selection import GridSearchCV\n",
    "from scipy import stats\n",
    "from collections import Counter\n",
    "from sklearn.model_selection import train_test_split, cross_validate\n",
    "from sklearn.ensemble import RandomForestClassifier\n",
    "from sklearn.metrics import classification_report\n",
    "from imblearn.under_sampling import NearMiss\n",
    "from imblearn.over_sampling import SMOTE\n",
    "from imblearn.ensemble import BalancedRandomForestClassifier\n",
    "from imblearn.ensemble import RUSBoostClassifier\n",
    "from imblearn.ensemble import EasyEnsembleClassifier\n",
    "from imblearn.ensemble import BalancedBaggingClassifier"
   ]
  },
  {
   "cell_type": "markdown",
   "id": "c3bc1405",
   "metadata": {},
   "source": [
    "## Part 1: Data Wrangling and EDA<a id='DataEDA'></a>"
   ]
  },
  {
   "cell_type": "markdown",
   "id": "3a21734b",
   "metadata": {},
   "source": [
    "### Problem<a id='Problem'></a>"
   ]
  },
  {
   "cell_type": "markdown",
   "id": "1359ed0a",
   "metadata": {},
   "source": [
    "The attached logins.json file contains (simulated) timestamps of user logins in a particular geographic location. Aggregate these login counts based on 15minute time intervals, and visualize and describe the resulting time series of login counts in ways that best characterize the underlying patterns of the demand. Please report/illustrate important features of the demand,\n",
    "such as daily cycles. If there are data quality issues, please report them."
   ]
  },
  {
   "cell_type": "markdown",
   "id": "f3fee0bd",
   "metadata": {},
   "source": [
    "### Load the Data<a id='Load_the_Data'></a>"
   ]
  },
  {
   "cell_type": "code",
   "execution_count": 2,
   "id": "35c2dab5",
   "metadata": {},
   "outputs": [],
   "source": [
    "logins = pd.read_json('C:/Users/jmhat/Desktop/Coding/Ultimate Challenge/Data/logins.json')"
   ]
  },
  {
   "cell_type": "markdown",
   "id": "720fe947",
   "metadata": {},
   "source": [
    "### Data Wrangling<a id='Data_Wrangling'></a>"
   ]
  },
  {
   "cell_type": "code",
   "execution_count": 3,
   "id": "dec182c5",
   "metadata": {},
   "outputs": [
    {
     "data": {
      "text/html": [
       "<div>\n",
       "<style scoped>\n",
       "    .dataframe tbody tr th:only-of-type {\n",
       "        vertical-align: middle;\n",
       "    }\n",
       "\n",
       "    .dataframe tbody tr th {\n",
       "        vertical-align: top;\n",
       "    }\n",
       "\n",
       "    .dataframe thead th {\n",
       "        text-align: right;\n",
       "    }\n",
       "</style>\n",
       "<table border=\"1\" class=\"dataframe\">\n",
       "  <thead>\n",
       "    <tr style=\"text-align: right;\">\n",
       "      <th></th>\n",
       "      <th>login_time</th>\n",
       "    </tr>\n",
       "  </thead>\n",
       "  <tbody>\n",
       "    <tr>\n",
       "      <th>0</th>\n",
       "      <td>1970-01-01 20:13:18</td>\n",
       "    </tr>\n",
       "    <tr>\n",
       "      <th>1</th>\n",
       "      <td>1970-01-01 20:16:10</td>\n",
       "    </tr>\n",
       "    <tr>\n",
       "      <th>2</th>\n",
       "      <td>1970-01-01 20:16:37</td>\n",
       "    </tr>\n",
       "    <tr>\n",
       "      <th>3</th>\n",
       "      <td>1970-01-01 20:16:36</td>\n",
       "    </tr>\n",
       "    <tr>\n",
       "      <th>4</th>\n",
       "      <td>1970-01-01 20:26:21</td>\n",
       "    </tr>\n",
       "    <tr>\n",
       "      <th>...</th>\n",
       "      <td>...</td>\n",
       "    </tr>\n",
       "    <tr>\n",
       "      <th>93137</th>\n",
       "      <td>1970-04-13 18:50:19</td>\n",
       "    </tr>\n",
       "    <tr>\n",
       "      <th>93138</th>\n",
       "      <td>1970-04-13 18:43:56</td>\n",
       "    </tr>\n",
       "    <tr>\n",
       "      <th>93139</th>\n",
       "      <td>1970-04-13 18:54:02</td>\n",
       "    </tr>\n",
       "    <tr>\n",
       "      <th>93140</th>\n",
       "      <td>1970-04-13 18:57:38</td>\n",
       "    </tr>\n",
       "    <tr>\n",
       "      <th>93141</th>\n",
       "      <td>1970-04-13 18:54:23</td>\n",
       "    </tr>\n",
       "  </tbody>\n",
       "</table>\n",
       "<p>93142 rows × 1 columns</p>\n",
       "</div>"
      ],
      "text/plain": [
       "               login_time\n",
       "0     1970-01-01 20:13:18\n",
       "1     1970-01-01 20:16:10\n",
       "2     1970-01-01 20:16:37\n",
       "3     1970-01-01 20:16:36\n",
       "4     1970-01-01 20:26:21\n",
       "...                   ...\n",
       "93137 1970-04-13 18:50:19\n",
       "93138 1970-04-13 18:43:56\n",
       "93139 1970-04-13 18:54:02\n",
       "93140 1970-04-13 18:57:38\n",
       "93141 1970-04-13 18:54:23\n",
       "\n",
       "[93142 rows x 1 columns]"
      ]
     },
     "execution_count": 3,
     "metadata": {},
     "output_type": "execute_result"
    }
   ],
   "source": [
    "logins"
   ]
  },
  {
   "cell_type": "code",
   "execution_count": 4,
   "id": "769fb5ef",
   "metadata": {},
   "outputs": [
    {
     "name": "stdout",
     "output_type": "stream",
     "text": [
      "<class 'pandas.core.frame.DataFrame'>\n",
      "RangeIndex: 93142 entries, 0 to 93141\n",
      "Data columns (total 1 columns):\n",
      " #   Column      Non-Null Count  Dtype         \n",
      "---  ------      --------------  -----         \n",
      " 0   login_time  93142 non-null  datetime64[ns]\n",
      "dtypes: datetime64[ns](1)\n",
      "memory usage: 727.8 KB\n"
     ]
    }
   ],
   "source": [
    "logins.info()"
   ]
  },
  {
   "cell_type": "code",
   "execution_count": 5,
   "id": "0207ecca",
   "metadata": {},
   "outputs": [],
   "source": [
    "logins['login_time'] = pd.to_datetime(logins['login_time'])"
   ]
  },
  {
   "cell_type": "markdown",
   "id": "69179bcf",
   "metadata": {},
   "source": [
    "Determine the number of logins for every 15 minute increment in the dataframe."
   ]
  },
  {
   "cell_type": "code",
   "execution_count": 6,
   "id": "b8eec809",
   "metadata": {},
   "outputs": [],
   "source": [
    "logins.set_index('login_time', inplace=True)"
   ]
  },
  {
   "cell_type": "code",
   "execution_count": 7,
   "id": "d4ff9571",
   "metadata": {},
   "outputs": [],
   "source": [
    "logins['count'] = 1"
   ]
  },
  {
   "cell_type": "code",
   "execution_count": 8,
   "id": "c73c0d4b",
   "metadata": {},
   "outputs": [],
   "source": [
    "logins_15 = logins.resample('15min').sum()"
   ]
  },
  {
   "cell_type": "code",
   "execution_count": 9,
   "id": "46732d44",
   "metadata": {},
   "outputs": [
    {
     "data": {
      "text/html": [
       "<div>\n",
       "<style scoped>\n",
       "    .dataframe tbody tr th:only-of-type {\n",
       "        vertical-align: middle;\n",
       "    }\n",
       "\n",
       "    .dataframe tbody tr th {\n",
       "        vertical-align: top;\n",
       "    }\n",
       "\n",
       "    .dataframe thead th {\n",
       "        text-align: right;\n",
       "    }\n",
       "</style>\n",
       "<table border=\"1\" class=\"dataframe\">\n",
       "  <thead>\n",
       "    <tr style=\"text-align: right;\">\n",
       "      <th></th>\n",
       "      <th>count</th>\n",
       "    </tr>\n",
       "    <tr>\n",
       "      <th>login_time</th>\n",
       "      <th></th>\n",
       "    </tr>\n",
       "  </thead>\n",
       "  <tbody>\n",
       "    <tr>\n",
       "      <th>1970-01-01 20:00:00</th>\n",
       "      <td>2</td>\n",
       "    </tr>\n",
       "    <tr>\n",
       "      <th>1970-01-01 20:15:00</th>\n",
       "      <td>6</td>\n",
       "    </tr>\n",
       "    <tr>\n",
       "      <th>1970-01-01 20:30:00</th>\n",
       "      <td>9</td>\n",
       "    </tr>\n",
       "    <tr>\n",
       "      <th>1970-01-01 20:45:00</th>\n",
       "      <td>7</td>\n",
       "    </tr>\n",
       "    <tr>\n",
       "      <th>1970-01-01 21:00:00</th>\n",
       "      <td>1</td>\n",
       "    </tr>\n",
       "    <tr>\n",
       "      <th>...</th>\n",
       "      <td>...</td>\n",
       "    </tr>\n",
       "    <tr>\n",
       "      <th>1970-04-13 17:45:00</th>\n",
       "      <td>5</td>\n",
       "    </tr>\n",
       "    <tr>\n",
       "      <th>1970-04-13 18:00:00</th>\n",
       "      <td>5</td>\n",
       "    </tr>\n",
       "    <tr>\n",
       "      <th>1970-04-13 18:15:00</th>\n",
       "      <td>2</td>\n",
       "    </tr>\n",
       "    <tr>\n",
       "      <th>1970-04-13 18:30:00</th>\n",
       "      <td>7</td>\n",
       "    </tr>\n",
       "    <tr>\n",
       "      <th>1970-04-13 18:45:00</th>\n",
       "      <td>6</td>\n",
       "    </tr>\n",
       "  </tbody>\n",
       "</table>\n",
       "<p>9788 rows × 1 columns</p>\n",
       "</div>"
      ],
      "text/plain": [
       "                     count\n",
       "login_time                \n",
       "1970-01-01 20:00:00      2\n",
       "1970-01-01 20:15:00      6\n",
       "1970-01-01 20:30:00      9\n",
       "1970-01-01 20:45:00      7\n",
       "1970-01-01 21:00:00      1\n",
       "...                    ...\n",
       "1970-04-13 17:45:00      5\n",
       "1970-04-13 18:00:00      5\n",
       "1970-04-13 18:15:00      2\n",
       "1970-04-13 18:30:00      7\n",
       "1970-04-13 18:45:00      6\n",
       "\n",
       "[9788 rows x 1 columns]"
      ]
     },
     "execution_count": 9,
     "metadata": {},
     "output_type": "execute_result"
    }
   ],
   "source": [
    "logins_15"
   ]
  },
  {
   "cell_type": "code",
   "execution_count": 10,
   "id": "0892db5a",
   "metadata": {},
   "outputs": [
    {
     "name": "stdout",
     "output_type": "stream",
     "text": [
      "<class 'pandas.core.frame.DataFrame'>\n",
      "DatetimeIndex: 9788 entries, 1970-01-01 20:00:00 to 1970-04-13 18:45:00\n",
      "Freq: 15T\n",
      "Data columns (total 1 columns):\n",
      " #   Column  Non-Null Count  Dtype\n",
      "---  ------  --------------  -----\n",
      " 0   count   9788 non-null   int64\n",
      "dtypes: int64(1)\n",
      "memory usage: 152.9 KB\n"
     ]
    }
   ],
   "source": [
    "logins_15.info()"
   ]
  },
  {
   "cell_type": "markdown",
   "id": "76343216",
   "metadata": {},
   "source": [
    "### Exploratory Data Analysis<a id='EDA'></a>"
   ]
  },
  {
   "cell_type": "code",
   "execution_count": 11,
   "id": "1a3c7ac0",
   "metadata": {},
   "outputs": [
    {
     "data": {
      "text/plain": [
       "Text(0, 0.5, 'Counts per 15 minutes')"
      ]
     },
     "execution_count": 11,
     "metadata": {},
     "output_type": "execute_result"
    },
    {
     "data": {
      "image/png": "[encoded data removed]",
      "text/plain": [
       "<Figure size 1080x576 with 1 Axes>"
      ]
     },
     "metadata": {
      "needs_background": "light"
     },
     "output_type": "display_data"
    }
   ],
   "source": [
    "logins_15.plot(kind='line', figsize=(15, 8))\n",
    "plt.xlabel('Date')\n",
    "plt.ylabel('Counts per 15 minutes')"
   ]
  },
  {
   "cell_type": "markdown",
   "id": "f5d051ed",
   "metadata": {},
   "source": [
    "From the initial plot, it seems like there is definitely a repeating pattern to the number of dates per 15 minutes every month. In order to analyze this further, I should also look into seasonality. "
   ]
  },
  {
   "cell_type": "code",
   "execution_count": 12,
   "id": "7308f6fb",
   "metadata": {},
   "outputs": [
    {
     "data": {
      "text/plain": [
       "Text(0, 0.5, 'Counts per 15 minutes')"
      ]
     },
     "execution_count": 12,
     "metadata": {},
     "output_type": "execute_result"
    },
    {
     "data": {
      "image/png": "[encoded data removed]",
      "text/plain": [
       "<Figure size 432x288 with 1 Axes>"
      ]
     },
     "metadata": {
      "needs_background": "light"
     },
     "output_type": "display_data"
    }
   ],
   "source": [
    "logins_15.loc[pd.to_datetime('1970-01-01 20:00:00'):pd.to_datetime('1970-01-31 20:00:00')].plot(y='count')\n",
    "plt.xlabel('Date')\n",
    "plt.ylabel('Counts per 15 minutes')"
   ]
  },
  {
   "cell_type": "markdown",
   "id": "69c4fa30",
   "metadata": {},
   "source": [
    "Looking at just one month of data, it seems like there is a repeated trend about 4 times every month."
   ]
  },
  {
   "cell_type": "code",
   "execution_count": 13,
   "id": "91ca31e7",
   "metadata": {},
   "outputs": [
    {
     "data": {
      "text/plain": [
       "Text(0, 0.5, 'Counts per 15 minutes')"
      ]
     },
     "execution_count": 13,
     "metadata": {},
     "output_type": "execute_result"
    },
    {
     "data": {
      "image/png": "[encoded data removed]",
      "text/plain": [
       "<Figure size 432x288 with 1 Axes>"
      ]
     },
     "metadata": {
      "needs_background": "light"
     },
     "output_type": "display_data"
    }
   ],
   "source": [
    "logins_15.loc[pd.to_datetime('1970-01-01 20:00:00'):pd.to_datetime('1970-01-03 20:00:00')].plot(y='count')\n",
    "plt.xlabel('Date')\n",
    "plt.ylabel('Counts per 15 minutes')"
   ]
  },
  {
   "cell_type": "markdown",
   "id": "45f7a898",
   "metadata": {},
   "source": [
    "Looking at just a few days, it is also interesting to note spikes around midnight and noon. This may indicate some seasonality down to the hourly level. I'll now look into determining seasonality using the Dickey Fuller test. I'll first create an approximate 12 day rolling mean and standard deviation."
   ]
  },
  {
   "cell_type": "code",
   "execution_count": 14,
   "id": "253227be",
   "metadata": {},
   "outputs": [],
   "source": [
    "rolling_mean = logins_15.rolling(1000).mean()\n",
    "rolling_std = logins_15.rolling(1000).std()"
   ]
  },
  {
   "cell_type": "markdown",
   "id": "9ef0084d",
   "metadata": {},
   "source": [
    "I'll then plot the rolling mean and standard deviation against the original dataset."
   ]
  },
  {
   "cell_type": "code",
   "execution_count": 15,
   "id": "1644e5b7",
   "metadata": {},
   "outputs": [
    {
     "data": {
      "text/plain": [
       "<matplotlib.legend.Legend at 0x23715ed7760>"
      ]
     },
     "execution_count": 15,
     "metadata": {},
     "output_type": "execute_result"
    },
    {
     "data": {
      "image/png": "[encoded data removed]",
      "text/plain": [
       "<Figure size 1080x576 with 1 Axes>"
      ]
     },
     "metadata": {
      "needs_background": "light"
     },
     "output_type": "display_data"
    }
   ],
   "source": [
    "f = plt.figure()\n",
    "f.set_figwidth(15)\n",
    "f.set_figheight(8)\n",
    "\n",
    "plt.plot(logins_15, color='blue', label='Counts per 15 minutes')\n",
    "plt.plot(rolling_mean, color='red', label='Rolling mean of counts per 15 minutes')\n",
    "plt.plot(rolling_std, color='yellow', label='Rolling standard deviation of counts per 15 minutes')\n",
    "plt.title('Counts per 15 minutes with rolling mean and standard deviation')\n",
    "plt.legend(loc='best')"
   ]
  },
  {
   "cell_type": "code",
   "execution_count": 16,
   "id": "cf75dd29",
   "metadata": {},
   "outputs": [],
   "source": [
    "adft = adfuller(logins_15, autolag='AIC')"
   ]
  },
  {
   "cell_type": "code",
   "execution_count": 17,
   "id": "076317ad",
   "metadata": {},
   "outputs": [
    {
     "name": "stdout",
     "output_type": "stream",
     "text": [
      "         Values                    Metric\n",
      "0 -1.033795e+01            Test Statistic\n",
      "1  2.732397e-18                   p-value\n",
      "2  3.800000e+01          No. of lags used\n",
      "3  9.749000e+03  No. of observations used\n",
      "4 -3.431021e+00       critical value (1%)\n",
      "5 -2.861837e+00       critical value (5%)\n",
      "6 -2.566928e+00      critical value (10%)\n"
     ]
    }
   ],
   "source": [
    "adft_output = pd.DataFrame({'Values':[adft[0],adft[1],adft[2],adft[3],adft[4]['1%'],adft[4]['5%'],adft[4]['10%']],'Metric':['Test Statistic','p-value','No. of lags used','No. of observations used','critical value (1%)','critical value (5%)','critical value (10%)']})\n",
    "print(adft_output)"
   ]
  },
  {
   "cell_type": "markdown",
   "id": "bf9fcfb7",
   "metadata": {},
   "source": [
    "Since our p-value is less than 5 percent, and the test statistic is also less than any of the critical values, we can positively conclude that the data is stationary. Let's now check for autocorrelation in the time series."
   ]
  },
  {
   "cell_type": "code",
   "execution_count": 18,
   "id": "059c9450",
   "metadata": {},
   "outputs": [
    {
     "data": {
      "image/png": "[encoded data removed]",
      "text/plain": [
       "<Figure size 432x288 with 1 Axes>"
      ]
     },
     "metadata": {
      "needs_background": "light"
     },
     "output_type": "display_data"
    }
   ],
   "source": [
    "#Plot the autocorrelation function\n",
    "figure = tsaplots.plot_acf(logins_15['count'], lags=1000)\n",
    "plt.show()"
   ]
  },
  {
   "cell_type": "markdown",
   "id": "e0740f45",
   "metadata": {},
   "source": [
    "The autocorrelation function plot is difficult to decipher as our base unit of time is 15 minute intervals which are relatively small. Let's now decompose the time series to visualize any trends in seasonality."
   ]
  },
  {
   "cell_type": "code",
   "execution_count": 19,
   "id": "0f1cc123",
   "metadata": {},
   "outputs": [
    {
     "data": {
      "image/png": "[encoded data removed]",
      "text/plain": [
       "<Figure size 864x864 with 4 Axes>"
      ]
     },
     "metadata": {
      "needs_background": "light"
     },
     "output_type": "display_data"
    }
   ],
   "source": [
    "decomp = seasonal_decompose(logins_15['count'], model='additive', period=1000)\n",
    "fig = decomp.plot()\n",
    "fig.set_size_inches((12, 12))\n",
    "fig.tight_layout()\n",
    "plt.show()"
   ]
  },
  {
   "cell_type": "markdown",
   "id": "f2946ff6",
   "metadata": {},
   "source": [
    "### Summary<a id='Summary'></a>"
   ]
  },
  {
   "cell_type": "markdown",
   "id": "159220aa",
   "metadata": {},
   "source": [
    "After conducting exploratory data analysis, I found that we had a p-value less than 5 percent and a test statistic less than any of the critical values. This would mean the data is stationary. However, we can also see in the seasonal decomposition that the number of logins every 15 minutes seems to increase over time, which may be contrary to stationarity. The autocorrelation function didn't seem to show any useful information, as it fluxuates wildly over lags. Overall, I was able to determine some seasonality to this data and decompose the values to adequately describe this dataset."
   ]
  },
  {
   "cell_type": "markdown",
   "id": "1c18bd2b",
   "metadata": {},
   "source": [
    "## Part 2: Experiment and Metrics Design<a id='EMD'></a>"
   ]
  },
  {
   "cell_type": "markdown",
   "id": "94f8b263",
   "metadata": {},
   "source": [
    "The neighboring cities of Gotham and Metropolis have complementary circadian rhythms: on weekdays, Ultimate Gotham is most active at night, and Ultimate Metropolis is most active during the day. On weekends, there is reasonable activity in both cities. However, a toll bridge, with a two way toll, between the two cities causes driver partners to tend to be exclusive to each city. The Ultimate managers of city operations for the two cities have proposed an experiment to encourage driver partners to be available in both cities, by reimbursing all toll costs."
   ]
  },
  {
   "cell_type": "markdown",
   "id": "5e27a3c7",
   "metadata": {},
   "source": [
    "### Question 1<a id='Q1'></a>"
   ]
  },
  {
   "cell_type": "markdown",
   "id": "060f7510",
   "metadata": {},
   "source": [
    "What would you choose as the key measure of success of this experiment in encouraging driver partners to serve both cities, and why would you choose this metric?"
   ]
  },
  {
   "cell_type": "markdown",
   "id": "14597b54",
   "metadata": {},
   "source": [
    "For this experiment, a success metric would definitely depend on what we want to see for driver engagement. For weekdays, since each city has a distinct activity time, I would say that not many drivers would want to be active for both cities most active periods. This would essentially entail quasi 24 hour shifts, which would be unsafe and unsustainable. However, there could be the possibly of some drivers potentially splitting the difference by driving the last 4 hours of the night in Gotham and the first 4 hours of the day in Metropolis. The best time to track drivers would then be most likely on the weekends. I would use the total amount of time drivers spend in each city as a metric of success for this experiment. This would be best as we are looking for not only how many times they cross back and forth, but also the amount of time they spend mingling between both cities."
   ]
  },
  {
   "cell_type": "markdown",
   "id": "19ae935b",
   "metadata": {},
   "source": [
    "### Question 2<a id='Q2'></a>"
   ]
  },
  {
   "cell_type": "markdown",
   "id": "db6e64ce",
   "metadata": {},
   "source": [
    "Describe a practical experiment you would design to compare the effectiveness of the proposed change in relation to the key measure of success. Explain how you will implement the experiment, what statistical test(s) you will conduct to verify the significance of the observation, and how you would interpret the results and provide recommendations to the city operations team along with any caveats."
   ]
  },
  {
   "cell_type": "markdown",
   "id": "0222c65f",
   "metadata": {},
   "source": [
    "In order to determine the amount of time that drivers spend in each city, we need to first have a sufficient sample size. In order to effectively determine whether there is more driver participation between the cities, we should create two groups of samples. Each sample should be comprised of at least 10% of the population of drivers from each city, although more would help the analysis. For this test, we would also need a control sample. This control should be sampled before the tolls are reimbursed as to get a good idea of how many drivers are willing to pay the toll and drive between both cities on the weekends. Once this baseline is taken, the city managers should then begin reimbursing tolls and again sample those same populations on the weekends. This should give a great indication of how much time drivers are spending in the opposite cities. Of course, there could also be other factors we need to take into consideration with this test. Things like high attendance events like sports games or concerts in either city could skew the results as more riders would be willing to pay tolls for the increase in ridership. We would therefore need to conduct this test during a more \"typical\" driving week as to solely isolate the toll fare as the only variable in the test. In order to determine if the reimbursement was effective, we will compare the means between the each of the two populations of drivers from the cities. This would indicate we need to run a T-test, specifically a paired sample T-test since both measurements are on the same subgroups, much like samples patients before and after treatment. For this, the null hypothesis would be that the pairwise difference between the means before and after the reimbursements are initiated would be zero, or no change. We would compare this value to the T-value tables as well as the p-value to determine if we can accept or reject the null hypothesis. If we have correctly isolated the toll as the only variable of interest, this test should be able to help the city managers determine if the toll reimbursement was effective at integrating drivers from both cities. If we accept the null hypothesis, then we can conclude that the reimbursement did not effect driver decisions to work in both cities."
   ]
  },
  {
   "cell_type": "markdown",
   "id": "21a18443",
   "metadata": {},
   "source": [
    "## Part 3: Predictive Modeling<a id='PM'></a>"
   ]
  },
  {
   "cell_type": "markdown",
   "id": "31be0b10",
   "metadata": {},
   "source": [
    "### Problem<a id='Problem3'></a>"
   ]
  },
  {
   "cell_type": "markdown",
   "id": "81fa051d",
   "metadata": {},
   "source": [
    "Ultimate is interested in predicting rider retention. To help explore this question, we have provided a sample dataset of a cohort of users who signed up for an Ultimate account in January 2014. The data was pulled several months later; we consider a user retained if they were “active” (i.e. took a trip) in the preceding 30 days. We would like you to use this data set to help understand what factors are the best predictors for retention, and offer suggestions to operationalize those insights to help Ultimate."
   ]
  },
  {
   "cell_type": "markdown",
   "id": "7942ec12",
   "metadata": {},
   "source": [
    "### Load the Data<a id='Load_the_Data3'></a>"
   ]
  },
  {
   "cell_type": "code",
   "execution_count": 20,
   "id": "d69ac275",
   "metadata": {},
   "outputs": [],
   "source": [
    "ultimate = pd.read_json('C:/Users/jmhat/Desktop/Coding/Ultimate Challenge/Data/ultimate_data_challenge.json')"
   ]
  },
  {
   "cell_type": "markdown",
   "id": "58d299cf",
   "metadata": {},
   "source": [
    "### Data Wrangling<a id='Data_Wrangling3'></a>"
   ]
  },
  {
   "cell_type": "code",
   "execution_count": 21,
   "id": "c8652ab1",
   "metadata": {},
   "outputs": [
    {
     "data": {
      "text/html": [
       "<div>\n",
       "<style scoped>\n",
       "    .dataframe tbody tr th:only-of-type {\n",
       "        vertical-align: middle;\n",
       "    }\n",
       "\n",
       "    .dataframe tbody tr th {\n",
       "        vertical-align: top;\n",
       "    }\n",
       "\n",
       "    .dataframe thead th {\n",
       "        text-align: right;\n",
       "    }\n",
       "</style>\n",
       "<table border=\"1\" class=\"dataframe\">\n",
       "  <thead>\n",
       "    <tr style=\"text-align: right;\">\n",
       "      <th></th>\n",
       "      <th>city</th>\n",
       "      <th>trips_in_first_30_days</th>\n",
       "      <th>signup_date</th>\n",
       "      <th>avg_rating_of_driver</th>\n",
       "      <th>avg_surge</th>\n",
       "      <th>last_trip_date</th>\n",
       "      <th>phone</th>\n",
       "      <th>surge_pct</th>\n",
       "      <th>ultimate_black_user</th>\n",
       "      <th>weekday_pct</th>\n",
       "      <th>avg_dist</th>\n",
       "      <th>avg_rating_by_driver</th>\n",
       "    </tr>\n",
       "  </thead>\n",
       "  <tbody>\n",
       "    <tr>\n",
       "      <th>0</th>\n",
       "      <td>King's Landing</td>\n",
       "      <td>4</td>\n",
       "      <td>2014-01-25</td>\n",
       "      <td>4.7</td>\n",
       "      <td>1.10</td>\n",
       "      <td>2014-06-17</td>\n",
       "      <td>iPhone</td>\n",
       "      <td>15.4</td>\n",
       "      <td>True</td>\n",
       "      <td>46.2</td>\n",
       "      <td>3.67</td>\n",
       "      <td>5.0</td>\n",
       "    </tr>\n",
       "    <tr>\n",
       "      <th>1</th>\n",
       "      <td>Astapor</td>\n",
       "      <td>0</td>\n",
       "      <td>2014-01-29</td>\n",
       "      <td>5.0</td>\n",
       "      <td>1.00</td>\n",
       "      <td>2014-05-05</td>\n",
       "      <td>Android</td>\n",
       "      <td>0.0</td>\n",
       "      <td>False</td>\n",
       "      <td>50.0</td>\n",
       "      <td>8.26</td>\n",
       "      <td>5.0</td>\n",
       "    </tr>\n",
       "    <tr>\n",
       "      <th>2</th>\n",
       "      <td>Astapor</td>\n",
       "      <td>3</td>\n",
       "      <td>2014-01-06</td>\n",
       "      <td>4.3</td>\n",
       "      <td>1.00</td>\n",
       "      <td>2014-01-07</td>\n",
       "      <td>iPhone</td>\n",
       "      <td>0.0</td>\n",
       "      <td>False</td>\n",
       "      <td>100.0</td>\n",
       "      <td>0.77</td>\n",
       "      <td>5.0</td>\n",
       "    </tr>\n",
       "    <tr>\n",
       "      <th>3</th>\n",
       "      <td>King's Landing</td>\n",
       "      <td>9</td>\n",
       "      <td>2014-01-10</td>\n",
       "      <td>4.6</td>\n",
       "      <td>1.14</td>\n",
       "      <td>2014-06-29</td>\n",
       "      <td>iPhone</td>\n",
       "      <td>20.0</td>\n",
       "      <td>True</td>\n",
       "      <td>80.0</td>\n",
       "      <td>2.36</td>\n",
       "      <td>4.9</td>\n",
       "    </tr>\n",
       "    <tr>\n",
       "      <th>4</th>\n",
       "      <td>Winterfell</td>\n",
       "      <td>14</td>\n",
       "      <td>2014-01-27</td>\n",
       "      <td>4.4</td>\n",
       "      <td>1.19</td>\n",
       "      <td>2014-03-15</td>\n",
       "      <td>Android</td>\n",
       "      <td>11.8</td>\n",
       "      <td>False</td>\n",
       "      <td>82.4</td>\n",
       "      <td>3.13</td>\n",
       "      <td>4.9</td>\n",
       "    </tr>\n",
       "    <tr>\n",
       "      <th>...</th>\n",
       "      <td>...</td>\n",
       "      <td>...</td>\n",
       "      <td>...</td>\n",
       "      <td>...</td>\n",
       "      <td>...</td>\n",
       "      <td>...</td>\n",
       "      <td>...</td>\n",
       "      <td>...</td>\n",
       "      <td>...</td>\n",
       "      <td>...</td>\n",
       "      <td>...</td>\n",
       "      <td>...</td>\n",
       "    </tr>\n",
       "    <tr>\n",
       "      <th>49995</th>\n",
       "      <td>King's Landing</td>\n",
       "      <td>0</td>\n",
       "      <td>2014-01-25</td>\n",
       "      <td>5.0</td>\n",
       "      <td>1.00</td>\n",
       "      <td>2014-06-05</td>\n",
       "      <td>iPhone</td>\n",
       "      <td>0.0</td>\n",
       "      <td>False</td>\n",
       "      <td>100.0</td>\n",
       "      <td>5.63</td>\n",
       "      <td>4.2</td>\n",
       "    </tr>\n",
       "    <tr>\n",
       "      <th>49996</th>\n",
       "      <td>Astapor</td>\n",
       "      <td>1</td>\n",
       "      <td>2014-01-24</td>\n",
       "      <td>NaN</td>\n",
       "      <td>1.00</td>\n",
       "      <td>2014-01-25</td>\n",
       "      <td>iPhone</td>\n",
       "      <td>0.0</td>\n",
       "      <td>False</td>\n",
       "      <td>0.0</td>\n",
       "      <td>0.00</td>\n",
       "      <td>4.0</td>\n",
       "    </tr>\n",
       "    <tr>\n",
       "      <th>49997</th>\n",
       "      <td>Winterfell</td>\n",
       "      <td>0</td>\n",
       "      <td>2014-01-31</td>\n",
       "      <td>5.0</td>\n",
       "      <td>1.00</td>\n",
       "      <td>2014-05-22</td>\n",
       "      <td>Android</td>\n",
       "      <td>0.0</td>\n",
       "      <td>True</td>\n",
       "      <td>100.0</td>\n",
       "      <td>3.86</td>\n",
       "      <td>5.0</td>\n",
       "    </tr>\n",
       "    <tr>\n",
       "      <th>49998</th>\n",
       "      <td>Astapor</td>\n",
       "      <td>2</td>\n",
       "      <td>2014-01-14</td>\n",
       "      <td>3.0</td>\n",
       "      <td>1.00</td>\n",
       "      <td>2014-01-15</td>\n",
       "      <td>iPhone</td>\n",
       "      <td>0.0</td>\n",
       "      <td>False</td>\n",
       "      <td>100.0</td>\n",
       "      <td>4.58</td>\n",
       "      <td>3.5</td>\n",
       "    </tr>\n",
       "    <tr>\n",
       "      <th>49999</th>\n",
       "      <td>Astapor</td>\n",
       "      <td>0</td>\n",
       "      <td>2014-01-18</td>\n",
       "      <td>NaN</td>\n",
       "      <td>1.00</td>\n",
       "      <td>2014-04-20</td>\n",
       "      <td>Android</td>\n",
       "      <td>0.0</td>\n",
       "      <td>False</td>\n",
       "      <td>0.0</td>\n",
       "      <td>3.49</td>\n",
       "      <td>5.0</td>\n",
       "    </tr>\n",
       "  </tbody>\n",
       "</table>\n",
       "<p>50000 rows × 12 columns</p>\n",
       "</div>"
      ],
      "text/plain": [
       "                 city  trips_in_first_30_days signup_date  \\\n",
       "0      King's Landing                       4  2014-01-25   \n",
       "1             Astapor                       0  2014-01-29   \n",
       "2             Astapor                       3  2014-01-06   \n",
       "3      King's Landing                       9  2014-01-10   \n",
       "4          Winterfell                      14  2014-01-27   \n",
       "...               ...                     ...         ...   \n",
       "49995  King's Landing                       0  2014-01-25   \n",
       "49996         Astapor                       1  2014-01-24   \n",
       "49997      Winterfell                       0  2014-01-31   \n",
       "49998         Astapor                       2  2014-01-14   \n",
       "49999         Astapor                       0  2014-01-18   \n",
       "\n",
       "       avg_rating_of_driver  avg_surge last_trip_date    phone  surge_pct  \\\n",
       "0                       4.7       1.10     2014-06-17   iPhone       15.4   \n",
       "1                       5.0       1.00     2014-05-05  Android        0.0   \n",
       "2                       4.3       1.00     2014-01-07   iPhone        0.0   \n",
       "3                       4.6       1.14     2014-06-29   iPhone       20.0   \n",
       "4                       4.4       1.19     2014-03-15  Android       11.8   \n",
       "...                     ...        ...            ...      ...        ...   \n",
       "49995                   5.0       1.00     2014-06-05   iPhone        0.0   \n",
       "49996                   NaN       1.00     2014-01-25   iPhone        0.0   \n",
       "49997                   5.0       1.00     2014-05-22  Android        0.0   \n",
       "49998                   3.0       1.00     2014-01-15   iPhone        0.0   \n",
       "49999                   NaN       1.00     2014-04-20  Android        0.0   \n",
       "\n",
       "       ultimate_black_user  weekday_pct  avg_dist  avg_rating_by_driver  \n",
       "0                     True         46.2      3.67                   5.0  \n",
       "1                    False         50.0      8.26                   5.0  \n",
       "2                    False        100.0      0.77                   5.0  \n",
       "3                     True         80.0      2.36                   4.9  \n",
       "4                    False         82.4      3.13                   4.9  \n",
       "...                    ...          ...       ...                   ...  \n",
       "49995                False        100.0      5.63                   4.2  \n",
       "49996                False          0.0      0.00                   4.0  \n",
       "49997                 True        100.0      3.86                   5.0  \n",
       "49998                False        100.0      4.58                   3.5  \n",
       "49999                False          0.0      3.49                   5.0  \n",
       "\n",
       "[50000 rows x 12 columns]"
      ]
     },
     "execution_count": 21,
     "metadata": {},
     "output_type": "execute_result"
    }
   ],
   "source": [
    "ultimate"
   ]
  },
  {
   "cell_type": "code",
   "execution_count": 22,
   "id": "e5a1a786",
   "metadata": {},
   "outputs": [
    {
     "name": "stdout",
     "output_type": "stream",
     "text": [
      "<class 'pandas.core.frame.DataFrame'>\n",
      "RangeIndex: 50000 entries, 0 to 49999\n",
      "Data columns (total 12 columns):\n",
      " #   Column                  Non-Null Count  Dtype  \n",
      "---  ------                  --------------  -----  \n",
      " 0   city                    50000 non-null  object \n",
      " 1   trips_in_first_30_days  50000 non-null  int64  \n",
      " 2   signup_date             50000 non-null  object \n",
      " 3   avg_rating_of_driver    41878 non-null  float64\n",
      " 4   avg_surge               50000 non-null  float64\n",
      " 5   last_trip_date          50000 non-null  object \n",
      " 6   phone                   49604 non-null  object \n",
      " 7   surge_pct               50000 non-null  float64\n",
      " 8   ultimate_black_user     50000 non-null  bool   \n",
      " 9   weekday_pct             50000 non-null  float64\n",
      " 10  avg_dist                50000 non-null  float64\n",
      " 11  avg_rating_by_driver    49799 non-null  float64\n",
      "dtypes: bool(1), float64(6), int64(1), object(4)\n",
      "memory usage: 4.2+ MB\n"
     ]
    }
   ],
   "source": [
    "ultimate.info()"
   ]
  },
  {
   "cell_type": "markdown",
   "id": "62cc71bc",
   "metadata": {},
   "source": [
    "Let's deal with the missing values before exploring the data. I'll first work on the phone column and most likely just drop the missing values for time's sake. If I were to spend more time on the analysis, I would likely try to fill the missing values with a randomly selected value from the column while keeping the percentage of iPhones and Android phones constant."
   ]
  },
  {
   "cell_type": "code",
   "execution_count": 23,
   "id": "5bc3aa4a",
   "metadata": {},
   "outputs": [
    {
     "data": {
      "text/plain": [
       "iPhone     34582\n",
       "Android    15022\n",
       "Name: phone, dtype: int64"
      ]
     },
     "execution_count": 23,
     "metadata": {},
     "output_type": "execute_result"
    }
   ],
   "source": [
    "ultimate['phone'].value_counts()"
   ]
  },
  {
   "cell_type": "code",
   "execution_count": 24,
   "id": "2fd3b273",
   "metadata": {},
   "outputs": [
    {
     "name": "stdout",
     "output_type": "stream",
     "text": [
      "iPhones hold 69.71615192323199 % of the dataset\n",
      "Android holds 30.283848076768006 % of the dataset\n"
     ]
    }
   ],
   "source": [
    "#Percentage iPhone\n",
    "iphone = (34582/49604)*100\n",
    "print('iPhones hold', iphone, '% of the dataset')\n",
    "#Percentage Android\n",
    "android = (15022/49604)*100\n",
    "print('Android holds', android, '% of the dataset')"
   ]
  },
  {
   "cell_type": "code",
   "execution_count": 25,
   "id": "056364d9",
   "metadata": {},
   "outputs": [],
   "source": [
    "ultimate.dropna(subset=['phone'], inplace=True)"
   ]
  },
  {
   "cell_type": "code",
   "execution_count": 26,
   "id": "0b863de9",
   "metadata": {},
   "outputs": [
    {
     "name": "stdout",
     "output_type": "stream",
     "text": [
      "<class 'pandas.core.frame.DataFrame'>\n",
      "Int64Index: 49604 entries, 0 to 49999\n",
      "Data columns (total 12 columns):\n",
      " #   Column                  Non-Null Count  Dtype  \n",
      "---  ------                  --------------  -----  \n",
      " 0   city                    49604 non-null  object \n",
      " 1   trips_in_first_30_days  49604 non-null  int64  \n",
      " 2   signup_date             49604 non-null  object \n",
      " 3   avg_rating_of_driver    41578 non-null  float64\n",
      " 4   avg_surge               49604 non-null  float64\n",
      " 5   last_trip_date          49604 non-null  object \n",
      " 6   phone                   49604 non-null  object \n",
      " 7   surge_pct               49604 non-null  float64\n",
      " 8   ultimate_black_user     49604 non-null  bool   \n",
      " 9   weekday_pct             49604 non-null  float64\n",
      " 10  avg_dist                49604 non-null  float64\n",
      " 11  avg_rating_by_driver    49406 non-null  float64\n",
      "dtypes: bool(1), float64(6), int64(1), object(4)\n",
      "memory usage: 4.6+ MB\n"
     ]
    }
   ],
   "source": [
    "ultimate.info()"
   ]
  },
  {
   "cell_type": "markdown",
   "id": "311d2a25",
   "metadata": {},
   "source": [
    "The only columns with missing values are now average rating by the driver and average rating of the driver. To fill these values, I will just use the mean of each of these columns."
   ]
  },
  {
   "cell_type": "code",
   "execution_count": 27,
   "id": "63b5c6e2",
   "metadata": {},
   "outputs": [],
   "source": [
    "#Mean driver rating by passenger\n",
    "rd_avg = round(ultimate['avg_rating_of_driver'].mean(), 1)\n",
    "#Mean passenger rating by driver\n",
    "rp_avg = round(ultimate['avg_rating_by_driver'].mean(), 1)"
   ]
  },
  {
   "cell_type": "code",
   "execution_count": 28,
   "id": "7c441837",
   "metadata": {},
   "outputs": [],
   "source": [
    "ultimate['avg_rating_of_driver'] = ultimate['avg_rating_of_driver'].fillna(rd_avg)\n",
    "ultimate['avg_rating_by_driver'] = ultimate['avg_rating_by_driver'].fillna(rp_avg)"
   ]
  },
  {
   "cell_type": "code",
   "execution_count": 29,
   "id": "6136bb28",
   "metadata": {},
   "outputs": [
    {
     "name": "stdout",
     "output_type": "stream",
     "text": [
      "<class 'pandas.core.frame.DataFrame'>\n",
      "Int64Index: 49604 entries, 0 to 49999\n",
      "Data columns (total 12 columns):\n",
      " #   Column                  Non-Null Count  Dtype  \n",
      "---  ------                  --------------  -----  \n",
      " 0   city                    49604 non-null  object \n",
      " 1   trips_in_first_30_days  49604 non-null  int64  \n",
      " 2   signup_date             49604 non-null  object \n",
      " 3   avg_rating_of_driver    49604 non-null  float64\n",
      " 4   avg_surge               49604 non-null  float64\n",
      " 5   last_trip_date          49604 non-null  object \n",
      " 6   phone                   49604 non-null  object \n",
      " 7   surge_pct               49604 non-null  float64\n",
      " 8   ultimate_black_user     49604 non-null  bool   \n",
      " 9   weekday_pct             49604 non-null  float64\n",
      " 10  avg_dist                49604 non-null  float64\n",
      " 11  avg_rating_by_driver    49604 non-null  float64\n",
      "dtypes: bool(1), float64(6), int64(1), object(4)\n",
      "memory usage: 4.6+ MB\n"
     ]
    }
   ],
   "source": [
    "ultimate.info()"
   ]
  },
  {
   "cell_type": "markdown",
   "id": "6d0e518e",
   "metadata": {},
   "source": [
    "I now want to change the date columns to datetime objects, encode the phone column, encode true/false values, and encode the city names."
   ]
  },
  {
   "cell_type": "code",
   "execution_count": 30,
   "id": "86c36884",
   "metadata": {},
   "outputs": [],
   "source": [
    "ultimate['signup_date'] =  pd.to_datetime(ultimate['signup_date'])"
   ]
  },
  {
   "cell_type": "code",
   "execution_count": 31,
   "id": "98fa015d",
   "metadata": {},
   "outputs": [],
   "source": [
    "ultimate['last_trip_date'] = pd.to_datetime(ultimate['last_trip_date'])"
   ]
  },
  {
   "cell_type": "code",
   "execution_count": 32,
   "id": "581c33a6",
   "metadata": {},
   "outputs": [],
   "source": [
    "ultimate = pd.get_dummies(ultimate, columns=['phone'], drop_first=False)"
   ]
  },
  {
   "cell_type": "code",
   "execution_count": 33,
   "id": "ac7ade1d",
   "metadata": {},
   "outputs": [],
   "source": [
    "ultimate['ultimate_black_user'] = ultimate['ultimate_black_user'].astype(int)"
   ]
  },
  {
   "cell_type": "code",
   "execution_count": 34,
   "id": "7755e2fd",
   "metadata": {},
   "outputs": [],
   "source": [
    "ultimate = pd.get_dummies(ultimate, columns=['city'], drop_first=False)"
   ]
  },
  {
   "cell_type": "code",
   "execution_count": 35,
   "id": "adfa088b",
   "metadata": {},
   "outputs": [
    {
     "data": {
      "text/html": [
       "<div>\n",
       "<style scoped>\n",
       "    .dataframe tbody tr th:only-of-type {\n",
       "        vertical-align: middle;\n",
       "    }\n",
       "\n",
       "    .dataframe tbody tr th {\n",
       "        vertical-align: top;\n",
       "    }\n",
       "\n",
       "    .dataframe thead th {\n",
       "        text-align: right;\n",
       "    }\n",
       "</style>\n",
       "<table border=\"1\" class=\"dataframe\">\n",
       "  <thead>\n",
       "    <tr style=\"text-align: right;\">\n",
       "      <th></th>\n",
       "      <th>trips_in_first_30_days</th>\n",
       "      <th>signup_date</th>\n",
       "      <th>avg_rating_of_driver</th>\n",
       "      <th>avg_surge</th>\n",
       "      <th>last_trip_date</th>\n",
       "      <th>surge_pct</th>\n",
       "      <th>ultimate_black_user</th>\n",
       "      <th>weekday_pct</th>\n",
       "      <th>avg_dist</th>\n",
       "      <th>avg_rating_by_driver</th>\n",
       "      <th>phone_Android</th>\n",
       "      <th>phone_iPhone</th>\n",
       "      <th>city_Astapor</th>\n",
       "      <th>city_King's Landing</th>\n",
       "      <th>city_Winterfell</th>\n",
       "    </tr>\n",
       "  </thead>\n",
       "  <tbody>\n",
       "    <tr>\n",
       "      <th>0</th>\n",
       "      <td>4</td>\n",
       "      <td>2014-01-25</td>\n",
       "      <td>4.7</td>\n",
       "      <td>1.10</td>\n",
       "      <td>2014-06-17</td>\n",
       "      <td>15.4</td>\n",
       "      <td>1</td>\n",
       "      <td>46.2</td>\n",
       "      <td>3.67</td>\n",
       "      <td>5.0</td>\n",
       "      <td>0</td>\n",
       "      <td>1</td>\n",
       "      <td>0</td>\n",
       "      <td>1</td>\n",
       "      <td>0</td>\n",
       "    </tr>\n",
       "    <tr>\n",
       "      <th>1</th>\n",
       "      <td>0</td>\n",
       "      <td>2014-01-29</td>\n",
       "      <td>5.0</td>\n",
       "      <td>1.00</td>\n",
       "      <td>2014-05-05</td>\n",
       "      <td>0.0</td>\n",
       "      <td>0</td>\n",
       "      <td>50.0</td>\n",
       "      <td>8.26</td>\n",
       "      <td>5.0</td>\n",
       "      <td>1</td>\n",
       "      <td>0</td>\n",
       "      <td>1</td>\n",
       "      <td>0</td>\n",
       "      <td>0</td>\n",
       "    </tr>\n",
       "    <tr>\n",
       "      <th>2</th>\n",
       "      <td>3</td>\n",
       "      <td>2014-01-06</td>\n",
       "      <td>4.3</td>\n",
       "      <td>1.00</td>\n",
       "      <td>2014-01-07</td>\n",
       "      <td>0.0</td>\n",
       "      <td>0</td>\n",
       "      <td>100.0</td>\n",
       "      <td>0.77</td>\n",
       "      <td>5.0</td>\n",
       "      <td>0</td>\n",
       "      <td>1</td>\n",
       "      <td>1</td>\n",
       "      <td>0</td>\n",
       "      <td>0</td>\n",
       "    </tr>\n",
       "    <tr>\n",
       "      <th>3</th>\n",
       "      <td>9</td>\n",
       "      <td>2014-01-10</td>\n",
       "      <td>4.6</td>\n",
       "      <td>1.14</td>\n",
       "      <td>2014-06-29</td>\n",
       "      <td>20.0</td>\n",
       "      <td>1</td>\n",
       "      <td>80.0</td>\n",
       "      <td>2.36</td>\n",
       "      <td>4.9</td>\n",
       "      <td>0</td>\n",
       "      <td>1</td>\n",
       "      <td>0</td>\n",
       "      <td>1</td>\n",
       "      <td>0</td>\n",
       "    </tr>\n",
       "    <tr>\n",
       "      <th>4</th>\n",
       "      <td>14</td>\n",
       "      <td>2014-01-27</td>\n",
       "      <td>4.4</td>\n",
       "      <td>1.19</td>\n",
       "      <td>2014-03-15</td>\n",
       "      <td>11.8</td>\n",
       "      <td>0</td>\n",
       "      <td>82.4</td>\n",
       "      <td>3.13</td>\n",
       "      <td>4.9</td>\n",
       "      <td>1</td>\n",
       "      <td>0</td>\n",
       "      <td>0</td>\n",
       "      <td>0</td>\n",
       "      <td>1</td>\n",
       "    </tr>\n",
       "    <tr>\n",
       "      <th>...</th>\n",
       "      <td>...</td>\n",
       "      <td>...</td>\n",
       "      <td>...</td>\n",
       "      <td>...</td>\n",
       "      <td>...</td>\n",
       "      <td>...</td>\n",
       "      <td>...</td>\n",
       "      <td>...</td>\n",
       "      <td>...</td>\n",
       "      <td>...</td>\n",
       "      <td>...</td>\n",
       "      <td>...</td>\n",
       "      <td>...</td>\n",
       "      <td>...</td>\n",
       "      <td>...</td>\n",
       "    </tr>\n",
       "    <tr>\n",
       "      <th>49995</th>\n",
       "      <td>0</td>\n",
       "      <td>2014-01-25</td>\n",
       "      <td>5.0</td>\n",
       "      <td>1.00</td>\n",
       "      <td>2014-06-05</td>\n",
       "      <td>0.0</td>\n",
       "      <td>0</td>\n",
       "      <td>100.0</td>\n",
       "      <td>5.63</td>\n",
       "      <td>4.2</td>\n",
       "      <td>0</td>\n",
       "      <td>1</td>\n",
       "      <td>0</td>\n",
       "      <td>1</td>\n",
       "      <td>0</td>\n",
       "    </tr>\n",
       "    <tr>\n",
       "      <th>49996</th>\n",
       "      <td>1</td>\n",
       "      <td>2014-01-24</td>\n",
       "      <td>4.6</td>\n",
       "      <td>1.00</td>\n",
       "      <td>2014-01-25</td>\n",
       "      <td>0.0</td>\n",
       "      <td>0</td>\n",
       "      <td>0.0</td>\n",
       "      <td>0.00</td>\n",
       "      <td>4.0</td>\n",
       "      <td>0</td>\n",
       "      <td>1</td>\n",
       "      <td>1</td>\n",
       "      <td>0</td>\n",
       "      <td>0</td>\n",
       "    </tr>\n",
       "    <tr>\n",
       "      <th>49997</th>\n",
       "      <td>0</td>\n",
       "      <td>2014-01-31</td>\n",
       "      <td>5.0</td>\n",
       "      <td>1.00</td>\n",
       "      <td>2014-05-22</td>\n",
       "      <td>0.0</td>\n",
       "      <td>1</td>\n",
       "      <td>100.0</td>\n",
       "      <td>3.86</td>\n",
       "      <td>5.0</td>\n",
       "      <td>1</td>\n",
       "      <td>0</td>\n",
       "      <td>0</td>\n",
       "      <td>0</td>\n",
       "      <td>1</td>\n",
       "    </tr>\n",
       "    <tr>\n",
       "      <th>49998</th>\n",
       "      <td>2</td>\n",
       "      <td>2014-01-14</td>\n",
       "      <td>3.0</td>\n",
       "      <td>1.00</td>\n",
       "      <td>2014-01-15</td>\n",
       "      <td>0.0</td>\n",
       "      <td>0</td>\n",
       "      <td>100.0</td>\n",
       "      <td>4.58</td>\n",
       "      <td>3.5</td>\n",
       "      <td>0</td>\n",
       "      <td>1</td>\n",
       "      <td>1</td>\n",
       "      <td>0</td>\n",
       "      <td>0</td>\n",
       "    </tr>\n",
       "    <tr>\n",
       "      <th>49999</th>\n",
       "      <td>0</td>\n",
       "      <td>2014-01-18</td>\n",
       "      <td>4.6</td>\n",
       "      <td>1.00</td>\n",
       "      <td>2014-04-20</td>\n",
       "      <td>0.0</td>\n",
       "      <td>0</td>\n",
       "      <td>0.0</td>\n",
       "      <td>3.49</td>\n",
       "      <td>5.0</td>\n",
       "      <td>1</td>\n",
       "      <td>0</td>\n",
       "      <td>1</td>\n",
       "      <td>0</td>\n",
       "      <td>0</td>\n",
       "    </tr>\n",
       "  </tbody>\n",
       "</table>\n",
       "<p>49604 rows × 15 columns</p>\n",
       "</div>"
      ],
      "text/plain": [
       "       trips_in_first_30_days signup_date  avg_rating_of_driver  avg_surge  \\\n",
       "0                           4  2014-01-25                   4.7       1.10   \n",
       "1                           0  2014-01-29                   5.0       1.00   \n",
       "2                           3  2014-01-06                   4.3       1.00   \n",
       "3                           9  2014-01-10                   4.6       1.14   \n",
       "4                          14  2014-01-27                   4.4       1.19   \n",
       "...                       ...         ...                   ...        ...   \n",
       "49995                       0  2014-01-25                   5.0       1.00   \n",
       "49996                       1  2014-01-24                   4.6       1.00   \n",
       "49997                       0  2014-01-31                   5.0       1.00   \n",
       "49998                       2  2014-01-14                   3.0       1.00   \n",
       "49999                       0  2014-01-18                   4.6       1.00   \n",
       "\n",
       "      last_trip_date  surge_pct  ultimate_black_user  weekday_pct  avg_dist  \\\n",
       "0         2014-06-17       15.4                    1         46.2      3.67   \n",
       "1         2014-05-05        0.0                    0         50.0      8.26   \n",
       "2         2014-01-07        0.0                    0        100.0      0.77   \n",
       "3         2014-06-29       20.0                    1         80.0      2.36   \n",
       "4         2014-03-15       11.8                    0         82.4      3.13   \n",
       "...              ...        ...                  ...          ...       ...   \n",
       "49995     2014-06-05        0.0                    0        100.0      5.63   \n",
       "49996     2014-01-25        0.0                    0          0.0      0.00   \n",
       "49997     2014-05-22        0.0                    1        100.0      3.86   \n",
       "49998     2014-01-15        0.0                    0        100.0      4.58   \n",
       "49999     2014-04-20        0.0                    0          0.0      3.49   \n",
       "\n",
       "       avg_rating_by_driver  phone_Android  phone_iPhone  city_Astapor  \\\n",
       "0                       5.0              0             1             0   \n",
       "1                       5.0              1             0             1   \n",
       "2                       5.0              0             1             1   \n",
       "3                       4.9              0             1             0   \n",
       "4                       4.9              1             0             0   \n",
       "...                     ...            ...           ...           ...   \n",
       "49995                   4.2              0             1             0   \n",
       "49996                   4.0              0             1             1   \n",
       "49997                   5.0              1             0             0   \n",
       "49998                   3.5              0             1             1   \n",
       "49999                   5.0              1             0             1   \n",
       "\n",
       "       city_King's Landing  city_Winterfell  \n",
       "0                        1                0  \n",
       "1                        0                0  \n",
       "2                        0                0  \n",
       "3                        1                0  \n",
       "4                        0                1  \n",
       "...                    ...              ...  \n",
       "49995                    1                0  \n",
       "49996                    0                0  \n",
       "49997                    0                1  \n",
       "49998                    0                0  \n",
       "49999                    0                0  \n",
       "\n",
       "[49604 rows x 15 columns]"
      ]
     },
     "execution_count": 35,
     "metadata": {},
     "output_type": "execute_result"
    }
   ],
   "source": [
    "ultimate"
   ]
  },
  {
   "cell_type": "markdown",
   "id": "a6ab5c83",
   "metadata": {},
   "source": [
    "For a user to be retained, they need to be active in the preceding 30 days from when the data was extracted. We can find the extraction date by looking for the latest date in the last trip date column. We can then subtract 30 days from that and check which users had their lastest rides within that timeframe."
   ]
  },
  {
   "cell_type": "code",
   "execution_count": 36,
   "id": "b953f3de",
   "metadata": {},
   "outputs": [],
   "source": [
    "extracted = ultimate['last_trip_date'].max()"
   ]
  },
  {
   "cell_type": "code",
   "execution_count": 37,
   "id": "25f7c316",
   "metadata": {},
   "outputs": [],
   "source": [
    "ultimate['retained'] = ultimate['last_trip_date'].apply(lambda x: 1 if (extracted - x).days <= 30 else 0)"
   ]
  },
  {
   "cell_type": "code",
   "execution_count": 38,
   "id": "740e1e55",
   "metadata": {},
   "outputs": [
    {
     "data": {
      "text/html": [
       "<div>\n",
       "<style scoped>\n",
       "    .dataframe tbody tr th:only-of-type {\n",
       "        vertical-align: middle;\n",
       "    }\n",
       "\n",
       "    .dataframe tbody tr th {\n",
       "        vertical-align: top;\n",
       "    }\n",
       "\n",
       "    .dataframe thead th {\n",
       "        text-align: right;\n",
       "    }\n",
       "</style>\n",
       "<table border=\"1\" class=\"dataframe\">\n",
       "  <thead>\n",
       "    <tr style=\"text-align: right;\">\n",
       "      <th></th>\n",
       "      <th>trips_in_first_30_days</th>\n",
       "      <th>signup_date</th>\n",
       "      <th>avg_rating_of_driver</th>\n",
       "      <th>avg_surge</th>\n",
       "      <th>last_trip_date</th>\n",
       "      <th>surge_pct</th>\n",
       "      <th>ultimate_black_user</th>\n",
       "      <th>weekday_pct</th>\n",
       "      <th>avg_dist</th>\n",
       "      <th>avg_rating_by_driver</th>\n",
       "      <th>phone_Android</th>\n",
       "      <th>phone_iPhone</th>\n",
       "      <th>city_Astapor</th>\n",
       "      <th>city_King's Landing</th>\n",
       "      <th>city_Winterfell</th>\n",
       "      <th>retained</th>\n",
       "    </tr>\n",
       "  </thead>\n",
       "  <tbody>\n",
       "    <tr>\n",
       "      <th>0</th>\n",
       "      <td>4</td>\n",
       "      <td>2014-01-25</td>\n",
       "      <td>4.7</td>\n",
       "      <td>1.10</td>\n",
       "      <td>2014-06-17</td>\n",
       "      <td>15.4</td>\n",
       "      <td>1</td>\n",
       "      <td>46.2</td>\n",
       "      <td>3.67</td>\n",
       "      <td>5.0</td>\n",
       "      <td>0</td>\n",
       "      <td>1</td>\n",
       "      <td>0</td>\n",
       "      <td>1</td>\n",
       "      <td>0</td>\n",
       "      <td>1</td>\n",
       "    </tr>\n",
       "    <tr>\n",
       "      <th>1</th>\n",
       "      <td>0</td>\n",
       "      <td>2014-01-29</td>\n",
       "      <td>5.0</td>\n",
       "      <td>1.00</td>\n",
       "      <td>2014-05-05</td>\n",
       "      <td>0.0</td>\n",
       "      <td>0</td>\n",
       "      <td>50.0</td>\n",
       "      <td>8.26</td>\n",
       "      <td>5.0</td>\n",
       "      <td>1</td>\n",
       "      <td>0</td>\n",
       "      <td>1</td>\n",
       "      <td>0</td>\n",
       "      <td>0</td>\n",
       "      <td>0</td>\n",
       "    </tr>\n",
       "    <tr>\n",
       "      <th>2</th>\n",
       "      <td>3</td>\n",
       "      <td>2014-01-06</td>\n",
       "      <td>4.3</td>\n",
       "      <td>1.00</td>\n",
       "      <td>2014-01-07</td>\n",
       "      <td>0.0</td>\n",
       "      <td>0</td>\n",
       "      <td>100.0</td>\n",
       "      <td>0.77</td>\n",
       "      <td>5.0</td>\n",
       "      <td>0</td>\n",
       "      <td>1</td>\n",
       "      <td>1</td>\n",
       "      <td>0</td>\n",
       "      <td>0</td>\n",
       "      <td>0</td>\n",
       "    </tr>\n",
       "    <tr>\n",
       "      <th>3</th>\n",
       "      <td>9</td>\n",
       "      <td>2014-01-10</td>\n",
       "      <td>4.6</td>\n",
       "      <td>1.14</td>\n",
       "      <td>2014-06-29</td>\n",
       "      <td>20.0</td>\n",
       "      <td>1</td>\n",
       "      <td>80.0</td>\n",
       "      <td>2.36</td>\n",
       "      <td>4.9</td>\n",
       "      <td>0</td>\n",
       "      <td>1</td>\n",
       "      <td>0</td>\n",
       "      <td>1</td>\n",
       "      <td>0</td>\n",
       "      <td>1</td>\n",
       "    </tr>\n",
       "    <tr>\n",
       "      <th>4</th>\n",
       "      <td>14</td>\n",
       "      <td>2014-01-27</td>\n",
       "      <td>4.4</td>\n",
       "      <td>1.19</td>\n",
       "      <td>2014-03-15</td>\n",
       "      <td>11.8</td>\n",
       "      <td>0</td>\n",
       "      <td>82.4</td>\n",
       "      <td>3.13</td>\n",
       "      <td>4.9</td>\n",
       "      <td>1</td>\n",
       "      <td>0</td>\n",
       "      <td>0</td>\n",
       "      <td>0</td>\n",
       "      <td>1</td>\n",
       "      <td>0</td>\n",
       "    </tr>\n",
       "    <tr>\n",
       "      <th>...</th>\n",
       "      <td>...</td>\n",
       "      <td>...</td>\n",
       "      <td>...</td>\n",
       "      <td>...</td>\n",
       "      <td>...</td>\n",
       "      <td>...</td>\n",
       "      <td>...</td>\n",
       "      <td>...</td>\n",
       "      <td>...</td>\n",
       "      <td>...</td>\n",
       "      <td>...</td>\n",
       "      <td>...</td>\n",
       "      <td>...</td>\n",
       "      <td>...</td>\n",
       "      <td>...</td>\n",
       "      <td>...</td>\n",
       "    </tr>\n",
       "    <tr>\n",
       "      <th>49995</th>\n",
       "      <td>0</td>\n",
       "      <td>2014-01-25</td>\n",
       "      <td>5.0</td>\n",
       "      <td>1.00</td>\n",
       "      <td>2014-06-05</td>\n",
       "      <td>0.0</td>\n",
       "      <td>0</td>\n",
       "      <td>100.0</td>\n",
       "      <td>5.63</td>\n",
       "      <td>4.2</td>\n",
       "      <td>0</td>\n",
       "      <td>1</td>\n",
       "      <td>0</td>\n",
       "      <td>1</td>\n",
       "      <td>0</td>\n",
       "      <td>1</td>\n",
       "    </tr>\n",
       "    <tr>\n",
       "      <th>49996</th>\n",
       "      <td>1</td>\n",
       "      <td>2014-01-24</td>\n",
       "      <td>4.6</td>\n",
       "      <td>1.00</td>\n",
       "      <td>2014-01-25</td>\n",
       "      <td>0.0</td>\n",
       "      <td>0</td>\n",
       "      <td>0.0</td>\n",
       "      <td>0.00</td>\n",
       "      <td>4.0</td>\n",
       "      <td>0</td>\n",
       "      <td>1</td>\n",
       "      <td>1</td>\n",
       "      <td>0</td>\n",
       "      <td>0</td>\n",
       "      <td>0</td>\n",
       "    </tr>\n",
       "    <tr>\n",
       "      <th>49997</th>\n",
       "      <td>0</td>\n",
       "      <td>2014-01-31</td>\n",
       "      <td>5.0</td>\n",
       "      <td>1.00</td>\n",
       "      <td>2014-05-22</td>\n",
       "      <td>0.0</td>\n",
       "      <td>1</td>\n",
       "      <td>100.0</td>\n",
       "      <td>3.86</td>\n",
       "      <td>5.0</td>\n",
       "      <td>1</td>\n",
       "      <td>0</td>\n",
       "      <td>0</td>\n",
       "      <td>0</td>\n",
       "      <td>1</td>\n",
       "      <td>0</td>\n",
       "    </tr>\n",
       "    <tr>\n",
       "      <th>49998</th>\n",
       "      <td>2</td>\n",
       "      <td>2014-01-14</td>\n",
       "      <td>3.0</td>\n",
       "      <td>1.00</td>\n",
       "      <td>2014-01-15</td>\n",
       "      <td>0.0</td>\n",
       "      <td>0</td>\n",
       "      <td>100.0</td>\n",
       "      <td>4.58</td>\n",
       "      <td>3.5</td>\n",
       "      <td>0</td>\n",
       "      <td>1</td>\n",
       "      <td>1</td>\n",
       "      <td>0</td>\n",
       "      <td>0</td>\n",
       "      <td>0</td>\n",
       "    </tr>\n",
       "    <tr>\n",
       "      <th>49999</th>\n",
       "      <td>0</td>\n",
       "      <td>2014-01-18</td>\n",
       "      <td>4.6</td>\n",
       "      <td>1.00</td>\n",
       "      <td>2014-04-20</td>\n",
       "      <td>0.0</td>\n",
       "      <td>0</td>\n",
       "      <td>0.0</td>\n",
       "      <td>3.49</td>\n",
       "      <td>5.0</td>\n",
       "      <td>1</td>\n",
       "      <td>0</td>\n",
       "      <td>1</td>\n",
       "      <td>0</td>\n",
       "      <td>0</td>\n",
       "      <td>0</td>\n",
       "    </tr>\n",
       "  </tbody>\n",
       "</table>\n",
       "<p>49604 rows × 16 columns</p>\n",
       "</div>"
      ],
      "text/plain": [
       "       trips_in_first_30_days signup_date  avg_rating_of_driver  avg_surge  \\\n",
       "0                           4  2014-01-25                   4.7       1.10   \n",
       "1                           0  2014-01-29                   5.0       1.00   \n",
       "2                           3  2014-01-06                   4.3       1.00   \n",
       "3                           9  2014-01-10                   4.6       1.14   \n",
       "4                          14  2014-01-27                   4.4       1.19   \n",
       "...                       ...         ...                   ...        ...   \n",
       "49995                       0  2014-01-25                   5.0       1.00   \n",
       "49996                       1  2014-01-24                   4.6       1.00   \n",
       "49997                       0  2014-01-31                   5.0       1.00   \n",
       "49998                       2  2014-01-14                   3.0       1.00   \n",
       "49999                       0  2014-01-18                   4.6       1.00   \n",
       "\n",
       "      last_trip_date  surge_pct  ultimate_black_user  weekday_pct  avg_dist  \\\n",
       "0         2014-06-17       15.4                    1         46.2      3.67   \n",
       "1         2014-05-05        0.0                    0         50.0      8.26   \n",
       "2         2014-01-07        0.0                    0        100.0      0.77   \n",
       "3         2014-06-29       20.0                    1         80.0      2.36   \n",
       "4         2014-03-15       11.8                    0         82.4      3.13   \n",
       "...              ...        ...                  ...          ...       ...   \n",
       "49995     2014-06-05        0.0                    0        100.0      5.63   \n",
       "49996     2014-01-25        0.0                    0          0.0      0.00   \n",
       "49997     2014-05-22        0.0                    1        100.0      3.86   \n",
       "49998     2014-01-15        0.0                    0        100.0      4.58   \n",
       "49999     2014-04-20        0.0                    0          0.0      3.49   \n",
       "\n",
       "       avg_rating_by_driver  phone_Android  phone_iPhone  city_Astapor  \\\n",
       "0                       5.0              0             1             0   \n",
       "1                       5.0              1             0             1   \n",
       "2                       5.0              0             1             1   \n",
       "3                       4.9              0             1             0   \n",
       "4                       4.9              1             0             0   \n",
       "...                     ...            ...           ...           ...   \n",
       "49995                   4.2              0             1             0   \n",
       "49996                   4.0              0             1             1   \n",
       "49997                   5.0              1             0             0   \n",
       "49998                   3.5              0             1             1   \n",
       "49999                   5.0              1             0             1   \n",
       "\n",
       "       city_King's Landing  city_Winterfell  retained  \n",
       "0                        1                0         1  \n",
       "1                        0                0         0  \n",
       "2                        0                0         0  \n",
       "3                        1                0         1  \n",
       "4                        0                1         0  \n",
       "...                    ...              ...       ...  \n",
       "49995                    1                0         1  \n",
       "49996                    0                0         0  \n",
       "49997                    0                1         0  \n",
       "49998                    0                0         0  \n",
       "49999                    0                0         0  \n",
       "\n",
       "[49604 rows x 16 columns]"
      ]
     },
     "execution_count": 38,
     "metadata": {},
     "output_type": "execute_result"
    }
   ],
   "source": [
    "ultimate"
   ]
  },
  {
   "cell_type": "markdown",
   "id": "e1a797e4",
   "metadata": {},
   "source": [
    "### Exploratory Data Analysis<a id='EDA3'></a>"
   ]
  },
  {
   "cell_type": "markdown",
   "id": "0ec4cf1d",
   "metadata": {},
   "source": [
    "Now, I can explore the data by looking at some summary statistics and visualizations."
   ]
  },
  {
   "cell_type": "code",
   "execution_count": 39,
   "id": "dd797304",
   "metadata": {},
   "outputs": [
    {
     "data": {
      "text/html": [
       "<div>\n",
       "<style scoped>\n",
       "    .dataframe tbody tr th:only-of-type {\n",
       "        vertical-align: middle;\n",
       "    }\n",
       "\n",
       "    .dataframe tbody tr th {\n",
       "        vertical-align: top;\n",
       "    }\n",
       "\n",
       "    .dataframe thead th {\n",
       "        text-align: right;\n",
       "    }\n",
       "</style>\n",
       "<table border=\"1\" class=\"dataframe\">\n",
       "  <thead>\n",
       "    <tr style=\"text-align: right;\">\n",
       "      <th></th>\n",
       "      <th>trips_in_first_30_days</th>\n",
       "      <th>avg_rating_of_driver</th>\n",
       "      <th>avg_surge</th>\n",
       "      <th>surge_pct</th>\n",
       "      <th>ultimate_black_user</th>\n",
       "      <th>weekday_pct</th>\n",
       "      <th>avg_dist</th>\n",
       "      <th>avg_rating_by_driver</th>\n",
       "      <th>phone_Android</th>\n",
       "      <th>phone_iPhone</th>\n",
       "      <th>city_Astapor</th>\n",
       "      <th>city_King's Landing</th>\n",
       "      <th>city_Winterfell</th>\n",
       "      <th>retained</th>\n",
       "    </tr>\n",
       "  </thead>\n",
       "  <tbody>\n",
       "    <tr>\n",
       "      <th>count</th>\n",
       "      <td>49604.000000</td>\n",
       "      <td>49604.000000</td>\n",
       "      <td>49604.000000</td>\n",
       "      <td>49604.000000</td>\n",
       "      <td>49604.000000</td>\n",
       "      <td>49604.000000</td>\n",
       "      <td>49604.000000</td>\n",
       "      <td>49604.000000</td>\n",
       "      <td>49604.000000</td>\n",
       "      <td>49604.000000</td>\n",
       "      <td>49604.000000</td>\n",
       "      <td>49604.000000</td>\n",
       "      <td>49604.000000</td>\n",
       "      <td>49604.000000</td>\n",
       "    </tr>\n",
       "    <tr>\n",
       "      <th>mean</th>\n",
       "      <td>2.277256</td>\n",
       "      <td>4.601230</td>\n",
       "      <td>1.074991</td>\n",
       "      <td>8.875314</td>\n",
       "      <td>0.375212</td>\n",
       "      <td>60.883832</td>\n",
       "      <td>5.785418</td>\n",
       "      <td>4.777949</td>\n",
       "      <td>0.302838</td>\n",
       "      <td>0.697162</td>\n",
       "      <td>0.330881</td>\n",
       "      <td>0.202927</td>\n",
       "      <td>0.466192</td>\n",
       "      <td>0.376401</td>\n",
       "    </tr>\n",
       "    <tr>\n",
       "      <th>std</th>\n",
       "      <td>3.793300</td>\n",
       "      <td>0.565228</td>\n",
       "      <td>0.222666</td>\n",
       "      <td>19.989018</td>\n",
       "      <td>0.484182</td>\n",
       "      <td>37.086239</td>\n",
       "      <td>5.669709</td>\n",
       "      <td>0.446223</td>\n",
       "      <td>0.459491</td>\n",
       "      <td>0.459491</td>\n",
       "      <td>0.470535</td>\n",
       "      <td>0.402183</td>\n",
       "      <td>0.498861</td>\n",
       "      <td>0.484487</td>\n",
       "    </tr>\n",
       "    <tr>\n",
       "      <th>min</th>\n",
       "      <td>0.000000</td>\n",
       "      <td>1.000000</td>\n",
       "      <td>1.000000</td>\n",
       "      <td>0.000000</td>\n",
       "      <td>0.000000</td>\n",
       "      <td>0.000000</td>\n",
       "      <td>0.000000</td>\n",
       "      <td>1.000000</td>\n",
       "      <td>0.000000</td>\n",
       "      <td>0.000000</td>\n",
       "      <td>0.000000</td>\n",
       "      <td>0.000000</td>\n",
       "      <td>0.000000</td>\n",
       "      <td>0.000000</td>\n",
       "    </tr>\n",
       "    <tr>\n",
       "      <th>25%</th>\n",
       "      <td>0.000000</td>\n",
       "      <td>4.500000</td>\n",
       "      <td>1.000000</td>\n",
       "      <td>0.000000</td>\n",
       "      <td>0.000000</td>\n",
       "      <td>33.300000</td>\n",
       "      <td>2.420000</td>\n",
       "      <td>4.700000</td>\n",
       "      <td>0.000000</td>\n",
       "      <td>0.000000</td>\n",
       "      <td>0.000000</td>\n",
       "      <td>0.000000</td>\n",
       "      <td>0.000000</td>\n",
       "      <td>0.000000</td>\n",
       "    </tr>\n",
       "    <tr>\n",
       "      <th>50%</th>\n",
       "      <td>1.000000</td>\n",
       "      <td>4.700000</td>\n",
       "      <td>1.000000</td>\n",
       "      <td>0.000000</td>\n",
       "      <td>0.000000</td>\n",
       "      <td>66.700000</td>\n",
       "      <td>3.880000</td>\n",
       "      <td>5.000000</td>\n",
       "      <td>0.000000</td>\n",
       "      <td>1.000000</td>\n",
       "      <td>0.000000</td>\n",
       "      <td>0.000000</td>\n",
       "      <td>0.000000</td>\n",
       "      <td>0.000000</td>\n",
       "    </tr>\n",
       "    <tr>\n",
       "      <th>75%</th>\n",
       "      <td>3.000000</td>\n",
       "      <td>5.000000</td>\n",
       "      <td>1.050000</td>\n",
       "      <td>8.700000</td>\n",
       "      <td>1.000000</td>\n",
       "      <td>100.000000</td>\n",
       "      <td>6.930000</td>\n",
       "      <td>5.000000</td>\n",
       "      <td>1.000000</td>\n",
       "      <td>1.000000</td>\n",
       "      <td>1.000000</td>\n",
       "      <td>0.000000</td>\n",
       "      <td>1.000000</td>\n",
       "      <td>1.000000</td>\n",
       "    </tr>\n",
       "    <tr>\n",
       "      <th>max</th>\n",
       "      <td>125.000000</td>\n",
       "      <td>5.000000</td>\n",
       "      <td>8.000000</td>\n",
       "      <td>100.000000</td>\n",
       "      <td>1.000000</td>\n",
       "      <td>100.000000</td>\n",
       "      <td>160.960000</td>\n",
       "      <td>5.000000</td>\n",
       "      <td>1.000000</td>\n",
       "      <td>1.000000</td>\n",
       "      <td>1.000000</td>\n",
       "      <td>1.000000</td>\n",
       "      <td>1.000000</td>\n",
       "      <td>1.000000</td>\n",
       "    </tr>\n",
       "  </tbody>\n",
       "</table>\n",
       "</div>"
      ],
      "text/plain": [
       "       trips_in_first_30_days  avg_rating_of_driver     avg_surge  \\\n",
       "count            49604.000000          49604.000000  49604.000000   \n",
       "mean                 2.277256              4.601230      1.074991   \n",
       "std                  3.793300              0.565228      0.222666   \n",
       "min                  0.000000              1.000000      1.000000   \n",
       "25%                  0.000000              4.500000      1.000000   \n",
       "50%                  1.000000              4.700000      1.000000   \n",
       "75%                  3.000000              5.000000      1.050000   \n",
       "max                125.000000              5.000000      8.000000   \n",
       "\n",
       "          surge_pct  ultimate_black_user   weekday_pct      avg_dist  \\\n",
       "count  49604.000000         49604.000000  49604.000000  49604.000000   \n",
       "mean       8.875314             0.375212     60.883832      5.785418   \n",
       "std       19.989018             0.484182     37.086239      5.669709   \n",
       "min        0.000000             0.000000      0.000000      0.000000   \n",
       "25%        0.000000             0.000000     33.300000      2.420000   \n",
       "50%        0.000000             0.000000     66.700000      3.880000   \n",
       "75%        8.700000             1.000000    100.000000      6.930000   \n",
       "max      100.000000             1.000000    100.000000    160.960000   \n",
       "\n",
       "       avg_rating_by_driver  phone_Android  phone_iPhone  city_Astapor  \\\n",
       "count          49604.000000   49604.000000  49604.000000  49604.000000   \n",
       "mean               4.777949       0.302838      0.697162      0.330881   \n",
       "std                0.446223       0.459491      0.459491      0.470535   \n",
       "min                1.000000       0.000000      0.000000      0.000000   \n",
       "25%                4.700000       0.000000      0.000000      0.000000   \n",
       "50%                5.000000       0.000000      1.000000      0.000000   \n",
       "75%                5.000000       1.000000      1.000000      1.000000   \n",
       "max                5.000000       1.000000      1.000000      1.000000   \n",
       "\n",
       "       city_King's Landing  city_Winterfell      retained  \n",
       "count         49604.000000     49604.000000  49604.000000  \n",
       "mean              0.202927         0.466192      0.376401  \n",
       "std               0.402183         0.498861      0.484487  \n",
       "min               0.000000         0.000000      0.000000  \n",
       "25%               0.000000         0.000000      0.000000  \n",
       "50%               0.000000         0.000000      0.000000  \n",
       "75%               0.000000         1.000000      1.000000  \n",
       "max               1.000000         1.000000      1.000000  "
      ]
     },
     "execution_count": 39,
     "metadata": {},
     "output_type": "execute_result"
    }
   ],
   "source": [
    "ultimate.describe()"
   ]
  },
  {
   "cell_type": "code",
   "execution_count": 40,
   "id": "eeb1ec63",
   "metadata": {},
   "outputs": [
    {
     "data": {
      "text/plain": [
       "array([[<AxesSubplot:title={'center':'trips_in_first_30_days'}>,\n",
       "        <AxesSubplot:title={'center':'signup_date'}>,\n",
       "        <AxesSubplot:title={'center':'avg_rating_of_driver'}>,\n",
       "        <AxesSubplot:title={'center':'avg_surge'}>],\n",
       "       [<AxesSubplot:title={'center':'last_trip_date'}>,\n",
       "        <AxesSubplot:title={'center':'surge_pct'}>,\n",
       "        <AxesSubplot:title={'center':'ultimate_black_user'}>,\n",
       "        <AxesSubplot:title={'center':'weekday_pct'}>],\n",
       "       [<AxesSubplot:title={'center':'avg_dist'}>,\n",
       "        <AxesSubplot:title={'center':'avg_rating_by_driver'}>,\n",
       "        <AxesSubplot:title={'center':'phone_Android'}>,\n",
       "        <AxesSubplot:title={'center':'phone_iPhone'}>],\n",
       "       [<AxesSubplot:title={'center':'city_Astapor'}>,\n",
       "        <AxesSubplot:title={'center':\"city_King's Landing\"}>,\n",
       "        <AxesSubplot:title={'center':'city_Winterfell'}>,\n",
       "        <AxesSubplot:title={'center':'retained'}>]], dtype=object)"
      ]
     },
     "execution_count": 40,
     "metadata": {},
     "output_type": "execute_result"
    },
    {
     "data": {
      "image/png": "[encoded data removed]",
      "text/plain": [
       "<Figure size 2160x2160 with 16 Axes>"
      ]
     },
     "metadata": {
      "needs_background": "light"
     },
     "output_type": "display_data"
    }
   ],
   "source": [
    "ultimate.hist(bins=20, figsize=(30,30), xrot=45)"
   ]
  },
  {
   "cell_type": "code",
   "execution_count": 41,
   "id": "3e3fa12c",
   "metadata": {},
   "outputs": [
    {
     "data": {
      "text/plain": [
       "Text(0, 0.5, 'Count')"
      ]
     },
     "execution_count": 41,
     "metadata": {},
     "output_type": "execute_result"
    },
    {
     "data": {
      "image/png": "[encoded data removed]",
      "text/plain": [
       "<Figure size 432x288 with 1 Axes>"
      ]
     },
     "metadata": {
      "needs_background": "light"
     },
     "output_type": "display_data"
    }
   ],
   "source": [
    "#Retained Users\n",
    "sns.countplot(x = 'retained', data=ultimate)\n",
    "plt.xlabel('Was User Retained?', size=12)\n",
    "plt.ylabel('Count', size=12)"
   ]
  },
  {
   "cell_type": "code",
   "execution_count": 42,
   "id": "2040f6cc",
   "metadata": {},
   "outputs": [
    {
     "data": {
      "text/plain": [
       "0    30933\n",
       "1    18671\n",
       "Name: retained, dtype: int64"
      ]
     },
     "execution_count": 42,
     "metadata": {},
     "output_type": "execute_result"
    }
   ],
   "source": [
    "ultimate['retained'].value_counts()"
   ]
  },
  {
   "cell_type": "markdown",
   "id": "e7e1036a",
   "metadata": {},
   "source": [
    "Question 1: Of the 49,604 users, only 18,671 were retained or in percentages, only about 38% of users. This does seem quite low for any type of retention problem. From the EDA, most users are from Winterfell and use an iPhone. Signup trends were also interesting with spikes appearing at semi-normal intervals in the timeseries. Most of the continuous variables were either left or right skewed, with the last trip date being skewed towards both the start and end of the timeseries data."
   ]
  },
  {
   "cell_type": "markdown",
   "id": "ad28c323",
   "metadata": {},
   "source": [
    "### Modeling<a id='Model3'></a>"
   ]
  },
  {
   "cell_type": "markdown",
   "id": "d4ee853f",
   "metadata": {},
   "source": [
    "Build a predictive model to help Ultimate determine whether or not a user will be active in their 6th month on the system. Discuss why you chose your approach, what alternatives you considered, and any concerns you have. How valid is your model? Include any key indicators of model performance."
   ]
  },
  {
   "cell_type": "markdown",
   "id": "4433e229",
   "metadata": {},
   "source": [
    "In order to build a model for this scenario, I need to have a column for users who are active 6 months after signing up. To do this, I need to compare retained dates with when they first signed up for the service. If they are retained at 6 months of signing up, I will give the user a value of 1, if not, 0. The last date of the timeseries is July 1st, 2014. I'll be using this value as well as the signup date and the retained column."
   ]
  },
  {
   "cell_type": "code",
   "execution_count": 43,
   "id": "8daa4ea5",
   "metadata": {},
   "outputs": [],
   "source": [
    "r_6 = []"
   ]
  },
  {
   "cell_type": "code",
   "execution_count": 44,
   "id": "6352aa27",
   "metadata": {},
   "outputs": [],
   "source": [
    "def months(x, y):\n",
    "    finish = x.dt.to_period('M').view(dtype='int64')\n",
    "    start = y.dt.to_period('M').view(dtype='int64')\n",
    "    return finish-start"
   ]
  },
  {
   "cell_type": "code",
   "execution_count": 45,
   "id": "a701ccf0",
   "metadata": {},
   "outputs": [],
   "source": [
    "ultimate['months'] = months(ultimate['last_trip_date'],ultimate['signup_date'])"
   ]
  },
  {
   "cell_type": "code",
   "execution_count": 46,
   "id": "0738538b",
   "metadata": {},
   "outputs": [],
   "source": [
    "for index, row in ultimate.iterrows():\n",
    "    if ultimate['retained'][index] == 1 and ultimate['months'][index] == 6:\n",
    "        r_6.append(1)\n",
    "    else:\n",
    "        r_6.append(0)"
   ]
  },
  {
   "cell_type": "code",
   "execution_count": 47,
   "id": "28a72c7b",
   "metadata": {},
   "outputs": [],
   "source": [
    "ultimate['retained_6month'] = r_6"
   ]
  },
  {
   "cell_type": "code",
   "execution_count": 48,
   "id": "7bfe53d9",
   "metadata": {},
   "outputs": [
    {
     "data": {
      "text/html": [
       "<div>\n",
       "<style scoped>\n",
       "    .dataframe tbody tr th:only-of-type {\n",
       "        vertical-align: middle;\n",
       "    }\n",
       "\n",
       "    .dataframe tbody tr th {\n",
       "        vertical-align: top;\n",
       "    }\n",
       "\n",
       "    .dataframe thead th {\n",
       "        text-align: right;\n",
       "    }\n",
       "</style>\n",
       "<table border=\"1\" class=\"dataframe\">\n",
       "  <thead>\n",
       "    <tr style=\"text-align: right;\">\n",
       "      <th></th>\n",
       "      <th>trips_in_first_30_days</th>\n",
       "      <th>signup_date</th>\n",
       "      <th>avg_rating_of_driver</th>\n",
       "      <th>avg_surge</th>\n",
       "      <th>last_trip_date</th>\n",
       "      <th>surge_pct</th>\n",
       "      <th>ultimate_black_user</th>\n",
       "      <th>weekday_pct</th>\n",
       "      <th>avg_dist</th>\n",
       "      <th>avg_rating_by_driver</th>\n",
       "      <th>phone_Android</th>\n",
       "      <th>phone_iPhone</th>\n",
       "      <th>city_Astapor</th>\n",
       "      <th>city_King's Landing</th>\n",
       "      <th>city_Winterfell</th>\n",
       "      <th>retained</th>\n",
       "      <th>months</th>\n",
       "      <th>retained_6month</th>\n",
       "    </tr>\n",
       "  </thead>\n",
       "  <tbody>\n",
       "    <tr>\n",
       "      <th>0</th>\n",
       "      <td>4</td>\n",
       "      <td>2014-01-25</td>\n",
       "      <td>4.7</td>\n",
       "      <td>1.10</td>\n",
       "      <td>2014-06-17</td>\n",
       "      <td>15.4</td>\n",
       "      <td>1</td>\n",
       "      <td>46.2</td>\n",
       "      <td>3.67</td>\n",
       "      <td>5.0</td>\n",
       "      <td>0</td>\n",
       "      <td>1</td>\n",
       "      <td>0</td>\n",
       "      <td>1</td>\n",
       "      <td>0</td>\n",
       "      <td>1</td>\n",
       "      <td>5</td>\n",
       "      <td>0</td>\n",
       "    </tr>\n",
       "    <tr>\n",
       "      <th>1</th>\n",
       "      <td>0</td>\n",
       "      <td>2014-01-29</td>\n",
       "      <td>5.0</td>\n",
       "      <td>1.00</td>\n",
       "      <td>2014-05-05</td>\n",
       "      <td>0.0</td>\n",
       "      <td>0</td>\n",
       "      <td>50.0</td>\n",
       "      <td>8.26</td>\n",
       "      <td>5.0</td>\n",
       "      <td>1</td>\n",
       "      <td>0</td>\n",
       "      <td>1</td>\n",
       "      <td>0</td>\n",
       "      <td>0</td>\n",
       "      <td>0</td>\n",
       "      <td>4</td>\n",
       "      <td>0</td>\n",
       "    </tr>\n",
       "    <tr>\n",
       "      <th>2</th>\n",
       "      <td>3</td>\n",
       "      <td>2014-01-06</td>\n",
       "      <td>4.3</td>\n",
       "      <td>1.00</td>\n",
       "      <td>2014-01-07</td>\n",
       "      <td>0.0</td>\n",
       "      <td>0</td>\n",
       "      <td>100.0</td>\n",
       "      <td>0.77</td>\n",
       "      <td>5.0</td>\n",
       "      <td>0</td>\n",
       "      <td>1</td>\n",
       "      <td>1</td>\n",
       "      <td>0</td>\n",
       "      <td>0</td>\n",
       "      <td>0</td>\n",
       "      <td>0</td>\n",
       "      <td>0</td>\n",
       "    </tr>\n",
       "    <tr>\n",
       "      <th>3</th>\n",
       "      <td>9</td>\n",
       "      <td>2014-01-10</td>\n",
       "      <td>4.6</td>\n",
       "      <td>1.14</td>\n",
       "      <td>2014-06-29</td>\n",
       "      <td>20.0</td>\n",
       "      <td>1</td>\n",
       "      <td>80.0</td>\n",
       "      <td>2.36</td>\n",
       "      <td>4.9</td>\n",
       "      <td>0</td>\n",
       "      <td>1</td>\n",
       "      <td>0</td>\n",
       "      <td>1</td>\n",
       "      <td>0</td>\n",
       "      <td>1</td>\n",
       "      <td>5</td>\n",
       "      <td>0</td>\n",
       "    </tr>\n",
       "    <tr>\n",
       "      <th>4</th>\n",
       "      <td>14</td>\n",
       "      <td>2014-01-27</td>\n",
       "      <td>4.4</td>\n",
       "      <td>1.19</td>\n",
       "      <td>2014-03-15</td>\n",
       "      <td>11.8</td>\n",
       "      <td>0</td>\n",
       "      <td>82.4</td>\n",
       "      <td>3.13</td>\n",
       "      <td>4.9</td>\n",
       "      <td>1</td>\n",
       "      <td>0</td>\n",
       "      <td>0</td>\n",
       "      <td>0</td>\n",
       "      <td>1</td>\n",
       "      <td>0</td>\n",
       "      <td>2</td>\n",
       "      <td>0</td>\n",
       "    </tr>\n",
       "    <tr>\n",
       "      <th>...</th>\n",
       "      <td>...</td>\n",
       "      <td>...</td>\n",
       "      <td>...</td>\n",
       "      <td>...</td>\n",
       "      <td>...</td>\n",
       "      <td>...</td>\n",
       "      <td>...</td>\n",
       "      <td>...</td>\n",
       "      <td>...</td>\n",
       "      <td>...</td>\n",
       "      <td>...</td>\n",
       "      <td>...</td>\n",
       "      <td>...</td>\n",
       "      <td>...</td>\n",
       "      <td>...</td>\n",
       "      <td>...</td>\n",
       "      <td>...</td>\n",
       "      <td>...</td>\n",
       "    </tr>\n",
       "    <tr>\n",
       "      <th>49995</th>\n",
       "      <td>0</td>\n",
       "      <td>2014-01-25</td>\n",
       "      <td>5.0</td>\n",
       "      <td>1.00</td>\n",
       "      <td>2014-06-05</td>\n",
       "      <td>0.0</td>\n",
       "      <td>0</td>\n",
       "      <td>100.0</td>\n",
       "      <td>5.63</td>\n",
       "      <td>4.2</td>\n",
       "      <td>0</td>\n",
       "      <td>1</td>\n",
       "      <td>0</td>\n",
       "      <td>1</td>\n",
       "      <td>0</td>\n",
       "      <td>1</td>\n",
       "      <td>5</td>\n",
       "      <td>0</td>\n",
       "    </tr>\n",
       "    <tr>\n",
       "      <th>49996</th>\n",
       "      <td>1</td>\n",
       "      <td>2014-01-24</td>\n",
       "      <td>4.6</td>\n",
       "      <td>1.00</td>\n",
       "      <td>2014-01-25</td>\n",
       "      <td>0.0</td>\n",
       "      <td>0</td>\n",
       "      <td>0.0</td>\n",
       "      <td>0.00</td>\n",
       "      <td>4.0</td>\n",
       "      <td>0</td>\n",
       "      <td>1</td>\n",
       "      <td>1</td>\n",
       "      <td>0</td>\n",
       "      <td>0</td>\n",
       "      <td>0</td>\n",
       "      <td>0</td>\n",
       "      <td>0</td>\n",
       "    </tr>\n",
       "    <tr>\n",
       "      <th>49997</th>\n",
       "      <td>0</td>\n",
       "      <td>2014-01-31</td>\n",
       "      <td>5.0</td>\n",
       "      <td>1.00</td>\n",
       "      <td>2014-05-22</td>\n",
       "      <td>0.0</td>\n",
       "      <td>1</td>\n",
       "      <td>100.0</td>\n",
       "      <td>3.86</td>\n",
       "      <td>5.0</td>\n",
       "      <td>1</td>\n",
       "      <td>0</td>\n",
       "      <td>0</td>\n",
       "      <td>0</td>\n",
       "      <td>1</td>\n",
       "      <td>0</td>\n",
       "      <td>4</td>\n",
       "      <td>0</td>\n",
       "    </tr>\n",
       "    <tr>\n",
       "      <th>49998</th>\n",
       "      <td>2</td>\n",
       "      <td>2014-01-14</td>\n",
       "      <td>3.0</td>\n",
       "      <td>1.00</td>\n",
       "      <td>2014-01-15</td>\n",
       "      <td>0.0</td>\n",
       "      <td>0</td>\n",
       "      <td>100.0</td>\n",
       "      <td>4.58</td>\n",
       "      <td>3.5</td>\n",
       "      <td>0</td>\n",
       "      <td>1</td>\n",
       "      <td>1</td>\n",
       "      <td>0</td>\n",
       "      <td>0</td>\n",
       "      <td>0</td>\n",
       "      <td>0</td>\n",
       "      <td>0</td>\n",
       "    </tr>\n",
       "    <tr>\n",
       "      <th>49999</th>\n",
       "      <td>0</td>\n",
       "      <td>2014-01-18</td>\n",
       "      <td>4.6</td>\n",
       "      <td>1.00</td>\n",
       "      <td>2014-04-20</td>\n",
       "      <td>0.0</td>\n",
       "      <td>0</td>\n",
       "      <td>0.0</td>\n",
       "      <td>3.49</td>\n",
       "      <td>5.0</td>\n",
       "      <td>1</td>\n",
       "      <td>0</td>\n",
       "      <td>1</td>\n",
       "      <td>0</td>\n",
       "      <td>0</td>\n",
       "      <td>0</td>\n",
       "      <td>3</td>\n",
       "      <td>0</td>\n",
       "    </tr>\n",
       "  </tbody>\n",
       "</table>\n",
       "<p>49604 rows × 18 columns</p>\n",
       "</div>"
      ],
      "text/plain": [
       "       trips_in_first_30_days signup_date  avg_rating_of_driver  avg_surge  \\\n",
       "0                           4  2014-01-25                   4.7       1.10   \n",
       "1                           0  2014-01-29                   5.0       1.00   \n",
       "2                           3  2014-01-06                   4.3       1.00   \n",
       "3                           9  2014-01-10                   4.6       1.14   \n",
       "4                          14  2014-01-27                   4.4       1.19   \n",
       "...                       ...         ...                   ...        ...   \n",
       "49995                       0  2014-01-25                   5.0       1.00   \n",
       "49996                       1  2014-01-24                   4.6       1.00   \n",
       "49997                       0  2014-01-31                   5.0       1.00   \n",
       "49998                       2  2014-01-14                   3.0       1.00   \n",
       "49999                       0  2014-01-18                   4.6       1.00   \n",
       "\n",
       "      last_trip_date  surge_pct  ultimate_black_user  weekday_pct  avg_dist  \\\n",
       "0         2014-06-17       15.4                    1         46.2      3.67   \n",
       "1         2014-05-05        0.0                    0         50.0      8.26   \n",
       "2         2014-01-07        0.0                    0        100.0      0.77   \n",
       "3         2014-06-29       20.0                    1         80.0      2.36   \n",
       "4         2014-03-15       11.8                    0         82.4      3.13   \n",
       "...              ...        ...                  ...          ...       ...   \n",
       "49995     2014-06-05        0.0                    0        100.0      5.63   \n",
       "49996     2014-01-25        0.0                    0          0.0      0.00   \n",
       "49997     2014-05-22        0.0                    1        100.0      3.86   \n",
       "49998     2014-01-15        0.0                    0        100.0      4.58   \n",
       "49999     2014-04-20        0.0                    0          0.0      3.49   \n",
       "\n",
       "       avg_rating_by_driver  phone_Android  phone_iPhone  city_Astapor  \\\n",
       "0                       5.0              0             1             0   \n",
       "1                       5.0              1             0             1   \n",
       "2                       5.0              0             1             1   \n",
       "3                       4.9              0             1             0   \n",
       "4                       4.9              1             0             0   \n",
       "...                     ...            ...           ...           ...   \n",
       "49995                   4.2              0             1             0   \n",
       "49996                   4.0              0             1             1   \n",
       "49997                   5.0              1             0             0   \n",
       "49998                   3.5              0             1             1   \n",
       "49999                   5.0              1             0             1   \n",
       "\n",
       "       city_King's Landing  city_Winterfell  retained  months  retained_6month  \n",
       "0                        1                0         1       5                0  \n",
       "1                        0                0         0       4                0  \n",
       "2                        0                0         0       0                0  \n",
       "3                        1                0         1       5                0  \n",
       "4                        0                1         0       2                0  \n",
       "...                    ...              ...       ...     ...              ...  \n",
       "49995                    1                0         1       5                0  \n",
       "49996                    0                0         0       0                0  \n",
       "49997                    0                1         0       4                0  \n",
       "49998                    0                0         0       0                0  \n",
       "49999                    0                0         0       3                0  \n",
       "\n",
       "[49604 rows x 18 columns]"
      ]
     },
     "execution_count": 48,
     "metadata": {},
     "output_type": "execute_result"
    }
   ],
   "source": [
    "ultimate"
   ]
  },
  {
   "cell_type": "code",
   "execution_count": 49,
   "id": "3b2992a6",
   "metadata": {},
   "outputs": [
    {
     "data": {
      "text/plain": [
       "0    49059\n",
       "1      545\n",
       "Name: retained_6month, dtype: int64"
      ]
     },
     "execution_count": 49,
     "metadata": {},
     "output_type": "execute_result"
    }
   ],
   "source": [
    "ultimate['retained_6month'].value_counts()"
   ]
  },
  {
   "cell_type": "markdown",
   "id": "3cd1dd6b",
   "metadata": {},
   "source": [
    "This shows that there are 545 users who are active at the 6 month mark after signing up for the service. I can now use this as the target variable and implement a machine learning model. My concern for this data is that it appears to be highly skewed towards one class. I'll also need to see if any of these variables are correlated to the 6 month retention. Since 6 month retention is binary and we have both continuous and binary features, I will use Point Biserial method for comparison between binary and continuous variables and Pearson for features that are both binary."
   ]
  },
  {
   "cell_type": "code",
   "execution_count": 50,
   "id": "fccce1c9",
   "metadata": {},
   "outputs": [
    {
     "name": "stdout",
     "output_type": "stream",
     "text": [
      "PointbiserialrResult(correlation=0.0829448105846813, pvalue=1.8867716582307552e-76)\n"
     ]
    }
   ],
   "source": [
    "#Correlation between 6 month retention and trips in the first 30 days\n",
    "print(stats.pointbiserialr(ultimate['retained_6month'], ultimate['trips_in_first_30_days']))"
   ]
  },
  {
   "cell_type": "code",
   "execution_count": 51,
   "id": "e682b0f9",
   "metadata": {},
   "outputs": [
    {
     "name": "stdout",
     "output_type": "stream",
     "text": [
      "PointbiserialrResult(correlation=0.0064427138101741605, pvalue=0.15131642772005893)\n"
     ]
    }
   ],
   "source": [
    "#Correlation between 6 month retention and average ratings of drivers\n",
    "print(stats.pointbiserialr(ultimate['retained_6month'], ultimate['avg_rating_of_driver']))"
   ]
  },
  {
   "cell_type": "code",
   "execution_count": 52,
   "id": "150b3c5c",
   "metadata": {},
   "outputs": [
    {
     "name": "stdout",
     "output_type": "stream",
     "text": [
      "PointbiserialrResult(correlation=0.001337607144599873, pvalue=0.7657765163846519)\n"
     ]
    }
   ],
   "source": [
    "#Correlation between 6 month retention and average surge\n",
    "print(stats.pointbiserialr(ultimate['retained_6month'], ultimate['avg_surge']))"
   ]
  },
  {
   "cell_type": "code",
   "execution_count": 53,
   "id": "a0bd4473",
   "metadata": {},
   "outputs": [
    {
     "name": "stdout",
     "output_type": "stream",
     "text": [
      "PointbiserialrResult(correlation=0.007210400867846601, pvalue=0.10830078984966438)\n"
     ]
    }
   ],
   "source": [
    "#Correlation between 6 month retention and surge percent\n",
    "print(stats.pointbiserialr(ultimate['retained_6month'], ultimate['surge_pct']))"
   ]
  },
  {
   "cell_type": "code",
   "execution_count": 54,
   "id": "3d63f322",
   "metadata": {},
   "outputs": [
    {
     "name": "stdout",
     "output_type": "stream",
     "text": [
      "PointbiserialrResult(correlation=0.02804501774841089, pvalue=4.17755135117893e-10)\n"
     ]
    }
   ],
   "source": [
    "#Correlation between 6 month retention and weekday percent\n",
    "print(stats.pointbiserialr(ultimate['retained_6month'], ultimate['weekday_pct']))"
   ]
  },
  {
   "cell_type": "code",
   "execution_count": 55,
   "id": "160a1832",
   "metadata": {},
   "outputs": [
    {
     "name": "stdout",
     "output_type": "stream",
     "text": [
      "PointbiserialrResult(correlation=-0.029874276406068913, pvalue=2.834867923858005e-11)\n"
     ]
    }
   ],
   "source": [
    "#Correlation between 6 month retention and average distance\n",
    "print(stats.pointbiserialr(ultimate['retained_6month'], ultimate['avg_dist']))"
   ]
  },
  {
   "cell_type": "code",
   "execution_count": 56,
   "id": "42e9e36a",
   "metadata": {},
   "outputs": [
    {
     "name": "stdout",
     "output_type": "stream",
     "text": [
      "(0.028562903174902746, 1.9829601825460549e-10)\n"
     ]
    }
   ],
   "source": [
    "#Correlation between 6 month retention and ultimate black users\n",
    "print(stats.pearsonr(ultimate['retained_6month'], ultimate['ultimate_black_user']))"
   ]
  },
  {
   "cell_type": "code",
   "execution_count": 57,
   "id": "5315cace",
   "metadata": {},
   "outputs": [
    {
     "name": "stdout",
     "output_type": "stream",
     "text": [
      "(0.03242841672414743, 5.042073738825559e-13)\n"
     ]
    }
   ],
   "source": [
    "#Correlation between 6 month retention and iPhone users\n",
    "print(stats.pearsonr(ultimate['retained_6month'], ultimate['phone_iPhone']))"
   ]
  },
  {
   "cell_type": "code",
   "execution_count": 58,
   "id": "340b7c1e",
   "metadata": {},
   "outputs": [
    {
     "name": "stdout",
     "output_type": "stream",
     "text": [
      "(-0.03242841672414743, 5.042073738825559e-13)\n"
     ]
    }
   ],
   "source": [
    "#Correlation between 6 month retention and Android users\n",
    "print(stats.pearsonr(ultimate['retained_6month'], ultimate['phone_Android']))"
   ]
  },
  {
   "cell_type": "code",
   "execution_count": 59,
   "id": "bcc9da66",
   "metadata": {},
   "outputs": [
    {
     "name": "stdout",
     "output_type": "stream",
     "text": [
      "(-0.033427604549692506, 9.557741669724556e-14)\n"
     ]
    }
   ],
   "source": [
    "#Correlation between 6 month retention and the City of Astapor\n",
    "print(stats.pearsonr(ultimate['retained_6month'], ultimate['city_Astapor']))"
   ]
  },
  {
   "cell_type": "code",
   "execution_count": 60,
   "id": "2c1acfd6",
   "metadata": {},
   "outputs": [
    {
     "name": "stdout",
     "output_type": "stream",
     "text": [
      "(0.043472461166128094, 3.4411188583477575e-22)\n"
     ]
    }
   ],
   "source": [
    "#Correlation between 6 month retention and the City of King's Landing\n",
    "print(stats.pearsonr(ultimate['retained_6month'], ultimate[\"city_King's Landing\"]))"
   ]
  },
  {
   "cell_type": "code",
   "execution_count": 61,
   "id": "3bd4ea26",
   "metadata": {},
   "outputs": [
    {
     "name": "stdout",
     "output_type": "stream",
     "text": [
      "(-0.0035180594424494838, 0.4333198700740761)\n"
     ]
    }
   ],
   "source": [
    "#Correlation between 6 month retention and the City of Winterfell\n",
    "print(stats.pearsonr(ultimate['retained_6month'], ultimate[\"city_Winterfell\"]))"
   ]
  },
  {
   "cell_type": "code",
   "execution_count": 62,
   "id": "c4f9f3d1",
   "metadata": {},
   "outputs": [
    {
     "name": "stdout",
     "output_type": "stream",
     "text": [
      "(0.13566447443984503, 2.1717495646579613e-202)\n"
     ]
    }
   ],
   "source": [
    "#Correlation between 6 month retention and whether they are retained\n",
    "print(stats.pearsonr(ultimate['retained_6month'], ultimate['retained']))"
   ]
  },
  {
   "cell_type": "markdown",
   "id": "73626235",
   "metadata": {},
   "source": [
    "Based on this analysis, there are a few features that have both positive and negative correlations with 6 month retention. I based this off of features with a p-value less than 0.05. The highest positive correlation was 0.14 with the normal retention column. The highest negative retention was -0.03 with the city of Astapor."
   ]
  },
  {
   "cell_type": "code",
   "execution_count": 63,
   "id": "7cbf177c",
   "metadata": {},
   "outputs": [
    {
     "data": {
      "text/html": [
       "<div>\n",
       "<style scoped>\n",
       "    .dataframe tbody tr th:only-of-type {\n",
       "        vertical-align: middle;\n",
       "    }\n",
       "\n",
       "    .dataframe tbody tr th {\n",
       "        vertical-align: top;\n",
       "    }\n",
       "\n",
       "    .dataframe thead th {\n",
       "        text-align: right;\n",
       "    }\n",
       "</style>\n",
       "<table border=\"1\" class=\"dataframe\">\n",
       "  <thead>\n",
       "    <tr style=\"text-align: right;\">\n",
       "      <th></th>\n",
       "      <th>trips_in_first_30_days</th>\n",
       "      <th>signup_date</th>\n",
       "      <th>avg_rating_of_driver</th>\n",
       "      <th>avg_surge</th>\n",
       "      <th>last_trip_date</th>\n",
       "      <th>surge_pct</th>\n",
       "      <th>ultimate_black_user</th>\n",
       "      <th>weekday_pct</th>\n",
       "      <th>avg_dist</th>\n",
       "      <th>avg_rating_by_driver</th>\n",
       "      <th>phone_Android</th>\n",
       "      <th>phone_iPhone</th>\n",
       "      <th>city_Astapor</th>\n",
       "      <th>city_King's Landing</th>\n",
       "      <th>city_Winterfell</th>\n",
       "      <th>retained</th>\n",
       "      <th>months</th>\n",
       "      <th>retained_6month</th>\n",
       "    </tr>\n",
       "  </thead>\n",
       "  <tbody>\n",
       "    <tr>\n",
       "      <th>0</th>\n",
       "      <td>4</td>\n",
       "      <td>2014-01-25</td>\n",
       "      <td>4.7</td>\n",
       "      <td>1.10</td>\n",
       "      <td>2014-06-17</td>\n",
       "      <td>15.4</td>\n",
       "      <td>1</td>\n",
       "      <td>46.2</td>\n",
       "      <td>3.67</td>\n",
       "      <td>5.0</td>\n",
       "      <td>0</td>\n",
       "      <td>1</td>\n",
       "      <td>0</td>\n",
       "      <td>1</td>\n",
       "      <td>0</td>\n",
       "      <td>1</td>\n",
       "      <td>5</td>\n",
       "      <td>0</td>\n",
       "    </tr>\n",
       "    <tr>\n",
       "      <th>1</th>\n",
       "      <td>0</td>\n",
       "      <td>2014-01-29</td>\n",
       "      <td>5.0</td>\n",
       "      <td>1.00</td>\n",
       "      <td>2014-05-05</td>\n",
       "      <td>0.0</td>\n",
       "      <td>0</td>\n",
       "      <td>50.0</td>\n",
       "      <td>8.26</td>\n",
       "      <td>5.0</td>\n",
       "      <td>1</td>\n",
       "      <td>0</td>\n",
       "      <td>1</td>\n",
       "      <td>0</td>\n",
       "      <td>0</td>\n",
       "      <td>0</td>\n",
       "      <td>4</td>\n",
       "      <td>0</td>\n",
       "    </tr>\n",
       "    <tr>\n",
       "      <th>2</th>\n",
       "      <td>3</td>\n",
       "      <td>2014-01-06</td>\n",
       "      <td>4.3</td>\n",
       "      <td>1.00</td>\n",
       "      <td>2014-01-07</td>\n",
       "      <td>0.0</td>\n",
       "      <td>0</td>\n",
       "      <td>100.0</td>\n",
       "      <td>0.77</td>\n",
       "      <td>5.0</td>\n",
       "      <td>0</td>\n",
       "      <td>1</td>\n",
       "      <td>1</td>\n",
       "      <td>0</td>\n",
       "      <td>0</td>\n",
       "      <td>0</td>\n",
       "      <td>0</td>\n",
       "      <td>0</td>\n",
       "    </tr>\n",
       "    <tr>\n",
       "      <th>3</th>\n",
       "      <td>9</td>\n",
       "      <td>2014-01-10</td>\n",
       "      <td>4.6</td>\n",
       "      <td>1.14</td>\n",
       "      <td>2014-06-29</td>\n",
       "      <td>20.0</td>\n",
       "      <td>1</td>\n",
       "      <td>80.0</td>\n",
       "      <td>2.36</td>\n",
       "      <td>4.9</td>\n",
       "      <td>0</td>\n",
       "      <td>1</td>\n",
       "      <td>0</td>\n",
       "      <td>1</td>\n",
       "      <td>0</td>\n",
       "      <td>1</td>\n",
       "      <td>5</td>\n",
       "      <td>0</td>\n",
       "    </tr>\n",
       "    <tr>\n",
       "      <th>4</th>\n",
       "      <td>14</td>\n",
       "      <td>2014-01-27</td>\n",
       "      <td>4.4</td>\n",
       "      <td>1.19</td>\n",
       "      <td>2014-03-15</td>\n",
       "      <td>11.8</td>\n",
       "      <td>0</td>\n",
       "      <td>82.4</td>\n",
       "      <td>3.13</td>\n",
       "      <td>4.9</td>\n",
       "      <td>1</td>\n",
       "      <td>0</td>\n",
       "      <td>0</td>\n",
       "      <td>0</td>\n",
       "      <td>1</td>\n",
       "      <td>0</td>\n",
       "      <td>2</td>\n",
       "      <td>0</td>\n",
       "    </tr>\n",
       "    <tr>\n",
       "      <th>...</th>\n",
       "      <td>...</td>\n",
       "      <td>...</td>\n",
       "      <td>...</td>\n",
       "      <td>...</td>\n",
       "      <td>...</td>\n",
       "      <td>...</td>\n",
       "      <td>...</td>\n",
       "      <td>...</td>\n",
       "      <td>...</td>\n",
       "      <td>...</td>\n",
       "      <td>...</td>\n",
       "      <td>...</td>\n",
       "      <td>...</td>\n",
       "      <td>...</td>\n",
       "      <td>...</td>\n",
       "      <td>...</td>\n",
       "      <td>...</td>\n",
       "      <td>...</td>\n",
       "    </tr>\n",
       "    <tr>\n",
       "      <th>49995</th>\n",
       "      <td>0</td>\n",
       "      <td>2014-01-25</td>\n",
       "      <td>5.0</td>\n",
       "      <td>1.00</td>\n",
       "      <td>2014-06-05</td>\n",
       "      <td>0.0</td>\n",
       "      <td>0</td>\n",
       "      <td>100.0</td>\n",
       "      <td>5.63</td>\n",
       "      <td>4.2</td>\n",
       "      <td>0</td>\n",
       "      <td>1</td>\n",
       "      <td>0</td>\n",
       "      <td>1</td>\n",
       "      <td>0</td>\n",
       "      <td>1</td>\n",
       "      <td>5</td>\n",
       "      <td>0</td>\n",
       "    </tr>\n",
       "    <tr>\n",
       "      <th>49996</th>\n",
       "      <td>1</td>\n",
       "      <td>2014-01-24</td>\n",
       "      <td>4.6</td>\n",
       "      <td>1.00</td>\n",
       "      <td>2014-01-25</td>\n",
       "      <td>0.0</td>\n",
       "      <td>0</td>\n",
       "      <td>0.0</td>\n",
       "      <td>0.00</td>\n",
       "      <td>4.0</td>\n",
       "      <td>0</td>\n",
       "      <td>1</td>\n",
       "      <td>1</td>\n",
       "      <td>0</td>\n",
       "      <td>0</td>\n",
       "      <td>0</td>\n",
       "      <td>0</td>\n",
       "      <td>0</td>\n",
       "    </tr>\n",
       "    <tr>\n",
       "      <th>49997</th>\n",
       "      <td>0</td>\n",
       "      <td>2014-01-31</td>\n",
       "      <td>5.0</td>\n",
       "      <td>1.00</td>\n",
       "      <td>2014-05-22</td>\n",
       "      <td>0.0</td>\n",
       "      <td>1</td>\n",
       "      <td>100.0</td>\n",
       "      <td>3.86</td>\n",
       "      <td>5.0</td>\n",
       "      <td>1</td>\n",
       "      <td>0</td>\n",
       "      <td>0</td>\n",
       "      <td>0</td>\n",
       "      <td>1</td>\n",
       "      <td>0</td>\n",
       "      <td>4</td>\n",
       "      <td>0</td>\n",
       "    </tr>\n",
       "    <tr>\n",
       "      <th>49998</th>\n",
       "      <td>2</td>\n",
       "      <td>2014-01-14</td>\n",
       "      <td>3.0</td>\n",
       "      <td>1.00</td>\n",
       "      <td>2014-01-15</td>\n",
       "      <td>0.0</td>\n",
       "      <td>0</td>\n",
       "      <td>100.0</td>\n",
       "      <td>4.58</td>\n",
       "      <td>3.5</td>\n",
       "      <td>0</td>\n",
       "      <td>1</td>\n",
       "      <td>1</td>\n",
       "      <td>0</td>\n",
       "      <td>0</td>\n",
       "      <td>0</td>\n",
       "      <td>0</td>\n",
       "      <td>0</td>\n",
       "    </tr>\n",
       "    <tr>\n",
       "      <th>49999</th>\n",
       "      <td>0</td>\n",
       "      <td>2014-01-18</td>\n",
       "      <td>4.6</td>\n",
       "      <td>1.00</td>\n",
       "      <td>2014-04-20</td>\n",
       "      <td>0.0</td>\n",
       "      <td>0</td>\n",
       "      <td>0.0</td>\n",
       "      <td>3.49</td>\n",
       "      <td>5.0</td>\n",
       "      <td>1</td>\n",
       "      <td>0</td>\n",
       "      <td>1</td>\n",
       "      <td>0</td>\n",
       "      <td>0</td>\n",
       "      <td>0</td>\n",
       "      <td>3</td>\n",
       "      <td>0</td>\n",
       "    </tr>\n",
       "  </tbody>\n",
       "</table>\n",
       "<p>49604 rows × 18 columns</p>\n",
       "</div>"
      ],
      "text/plain": [
       "       trips_in_first_30_days signup_date  avg_rating_of_driver  avg_surge  \\\n",
       "0                           4  2014-01-25                   4.7       1.10   \n",
       "1                           0  2014-01-29                   5.0       1.00   \n",
       "2                           3  2014-01-06                   4.3       1.00   \n",
       "3                           9  2014-01-10                   4.6       1.14   \n",
       "4                          14  2014-01-27                   4.4       1.19   \n",
       "...                       ...         ...                   ...        ...   \n",
       "49995                       0  2014-01-25                   5.0       1.00   \n",
       "49996                       1  2014-01-24                   4.6       1.00   \n",
       "49997                       0  2014-01-31                   5.0       1.00   \n",
       "49998                       2  2014-01-14                   3.0       1.00   \n",
       "49999                       0  2014-01-18                   4.6       1.00   \n",
       "\n",
       "      last_trip_date  surge_pct  ultimate_black_user  weekday_pct  avg_dist  \\\n",
       "0         2014-06-17       15.4                    1         46.2      3.67   \n",
       "1         2014-05-05        0.0                    0         50.0      8.26   \n",
       "2         2014-01-07        0.0                    0        100.0      0.77   \n",
       "3         2014-06-29       20.0                    1         80.0      2.36   \n",
       "4         2014-03-15       11.8                    0         82.4      3.13   \n",
       "...              ...        ...                  ...          ...       ...   \n",
       "49995     2014-06-05        0.0                    0        100.0      5.63   \n",
       "49996     2014-01-25        0.0                    0          0.0      0.00   \n",
       "49997     2014-05-22        0.0                    1        100.0      3.86   \n",
       "49998     2014-01-15        0.0                    0        100.0      4.58   \n",
       "49999     2014-04-20        0.0                    0          0.0      3.49   \n",
       "\n",
       "       avg_rating_by_driver  phone_Android  phone_iPhone  city_Astapor  \\\n",
       "0                       5.0              0             1             0   \n",
       "1                       5.0              1             0             1   \n",
       "2                       5.0              0             1             1   \n",
       "3                       4.9              0             1             0   \n",
       "4                       4.9              1             0             0   \n",
       "...                     ...            ...           ...           ...   \n",
       "49995                   4.2              0             1             0   \n",
       "49996                   4.0              0             1             1   \n",
       "49997                   5.0              1             0             0   \n",
       "49998                   3.5              0             1             1   \n",
       "49999                   5.0              1             0             1   \n",
       "\n",
       "       city_King's Landing  city_Winterfell  retained  months  retained_6month  \n",
       "0                        1                0         1       5                0  \n",
       "1                        0                0         0       4                0  \n",
       "2                        0                0         0       0                0  \n",
       "3                        1                0         1       5                0  \n",
       "4                        0                1         0       2                0  \n",
       "...                    ...              ...       ...     ...              ...  \n",
       "49995                    1                0         1       5                0  \n",
       "49996                    0                0         0       0                0  \n",
       "49997                    0                1         0       4                0  \n",
       "49998                    0                0         0       0                0  \n",
       "49999                    0                0         0       3                0  \n",
       "\n",
       "[49604 rows x 18 columns]"
      ]
     },
     "execution_count": 63,
     "metadata": {},
     "output_type": "execute_result"
    }
   ],
   "source": [
    "ultimate"
   ]
  },
  {
   "cell_type": "code",
   "execution_count": 64,
   "id": "22e46a93",
   "metadata": {},
   "outputs": [],
   "source": [
    "#Split the data into training and testing sections\n",
    "X = ultimate.drop(columns=['months', 'retained_6month', 'last_trip_date', 'signup_date'])\n",
    "y = ultimate['retained_6month']\n",
    "X_train, X_test, y_train, y_test = train_test_split(X, y, test_size=0.2, stratify=y, random_state=42)"
   ]
  },
  {
   "cell_type": "code",
   "execution_count": 76,
   "id": "a4ba759a",
   "metadata": {},
   "outputs": [
    {
     "name": "stdout",
     "output_type": "stream",
     "text": [
      "Accuracy: 0.808789436548735\n"
     ]
    }
   ],
   "source": [
    "#Random Forest Model\n",
    "clf = RandomForestClassifier(n_estimators=200, min_samples_split=300, class_weight='balanced')\n",
    "clf.fit(X_train, y_train)\n",
    "y_pred = clf.predict(X_test)\n",
    "print('Accuracy:', metrics.accuracy_score(y_test, y_pred))"
   ]
  },
  {
   "cell_type": "code",
   "execution_count": 77,
   "id": "c43cf35b",
   "metadata": {},
   "outputs": [
    {
     "name": "stdout",
     "output_type": "stream",
     "text": [
      "              precision    recall  f1-score   support\n",
      "\n",
      "           0       1.00      0.81      0.89      9812\n",
      "           1       0.05      0.83      0.09       109\n",
      "\n",
      "    accuracy                           0.81      9921\n",
      "   macro avg       0.52      0.82      0.49      9921\n",
      "weighted avg       0.99      0.81      0.88      9921\n",
      "\n"
     ]
    }
   ],
   "source": [
    "from sklearn.metrics import classification_report\n",
    "print(classification_report(y_test, y_pred))"
   ]
  },
  {
   "cell_type": "code",
   "execution_count": 67,
   "id": "9957e5ab",
   "metadata": {},
   "outputs": [
    {
     "name": "stdout",
     "output_type": "stream",
     "text": [
      "0.000 +/- 0.000\n"
     ]
    }
   ],
   "source": [
    "rf = RandomForestClassifier()\n",
    "baseline_model_cv = cross_validate(rf, X_train, y_train, cv=5, n_jobs=-1, scoring='recall')\n",
    "print(f\"{baseline_model_cv['test_score'].mean():.3f} +/- {baseline_model_cv['test_score'].std():.3f}\")"
   ]
  },
  {
   "cell_type": "code",
   "execution_count": 114,
   "id": "7593abb5",
   "metadata": {},
   "outputs": [
    {
     "name": "stdout",
     "output_type": "stream",
     "text": [
      "0.931 +/- 0.031\n"
     ]
    }
   ],
   "source": [
    "# Train the balanced random forest model\n",
    "brf = BalancedRandomForestClassifier(random_state=42)\n",
    "brf_model_cv = cross_validate(brf, X_train, y_train, cv = 5, n_jobs = -1, scoring=\"recall\")\n",
    "# Check the model performance\n",
    "print(f\"{brf_model_cv['test_score'].mean():.3f} +/- {brf_model_cv['test_score'].std():.3f}\")"
   ]
  },
  {
   "cell_type": "code",
   "execution_count": 115,
   "id": "d5c3e687",
   "metadata": {},
   "outputs": [
    {
     "name": "stdout",
     "output_type": "stream",
     "text": [
      "0.775 +/- 0.230\n"
     ]
    }
   ],
   "source": [
    "# Train the random under-sampling boosting classifier model\n",
    "rusb = RUSBoostClassifier(random_state=42)\n",
    "rusb_model_cv = cross_validate(rusb, X_train, y_train, cv = 5, n_jobs = -1, scoring=\"recall\")\n",
    "# Check the model performance\n",
    "print(f\"{rusb_model_cv['test_score'].mean():.3f} +/- {rusb_model_cv['test_score'].std():.3f}\")"
   ]
  },
  {
   "cell_type": "code",
   "execution_count": 116,
   "id": "c30195ae",
   "metadata": {},
   "outputs": [
    {
     "name": "stdout",
     "output_type": "stream",
     "text": [
      "0.956 +/- 0.017\n"
     ]
    }
   ],
   "source": [
    "# Train the easy ensemble classifier model\n",
    "eec = EasyEnsembleClassifier(random_state=42)\n",
    "eec_model_cv = cross_validate(eec, X_train, y_train, cv = 5, n_jobs = -1, scoring=\"recall\")\n",
    "# Check the model performance\n",
    "print(f\"{eec_model_cv['test_score'].mean():.3f} +/- {eec_model_cv['test_score'].std():.3f}\")"
   ]
  },
  {
   "cell_type": "code",
   "execution_count": 118,
   "id": "bcb0388d",
   "metadata": {},
   "outputs": [
    {
     "name": "stdout",
     "output_type": "stream",
     "text": [
      "              precision    recall  f1-score   support\n",
      "\n",
      "           0       1.00      0.72      0.84      9812\n",
      "           1       0.04      0.97      0.07       109\n",
      "\n",
      "    accuracy                           0.72      9921\n",
      "   macro avg       0.52      0.85      0.45      9921\n",
      "weighted avg       0.99      0.72      0.83      9921\n",
      "\n"
     ]
    }
   ],
   "source": [
    "eec = EasyEnsembleClassifier(random_state=42)\n",
    "eec_model = eec.fit(X_train, y_train)\n",
    "y_pred = eec_model.predict(X_test)\n",
    "print(classification_report(y_test, y_pred))"
   ]
  },
  {
   "cell_type": "markdown",
   "id": "3f15af4e",
   "metadata": {},
   "source": [
    "### Conclusions<a id='Con3'></a>"
   ]
  },
  {
   "cell_type": "markdown",
   "id": "71d057e9",
   "metadata": {},
   "source": [
    "I choose to try a few difference classifier models in order to determine which one would work the best with the dataset. The random forest classifier was the most robust of the models I choose. I also chose to look at a random under-sampling boosted classifier and an Easy Ensemble classifier to try and take into account the major class imbalance between those who were retained after 6 months and those who weren't. I initially graded my models based on their mean accuracy and standard deviation scores. Those with the highest scores I created classification reports for to further analyze the results. From the initial results. The random forest classifier and the easy ensemble classifer had the closest results. On further inspection, both models had a difficult time predicting retained riders, most likely because the dataset was highly skewed towards non-retained riders, especially after 6 months. I applied stratification to the train/test split as well as a high minium sample split in the random forest model to account for this and it did slightly better than the easy ensemble model. The random forest model was about 72% accurate with vastly different precision scores depending on the target and more similar recall scores. From my correlation analysis, it appears that the best predictor for 6 month retention is if a driver is classified as being normally retained. The city of Astapor had the highest negative correlation with retention, maybe inferring that users are not well retained from this city. Further analysis would be needed to determine why those riders chose not to continue with the service. In order to improve this analysis, I would recommend that the company increase the sample size to ensure there is a more equal distribution between retained and not retained. I would recommend more advanced processing as well for the future, maybe taking samples from the two groups, such that we have two fairly equal sample sizes. "
   ]
  }
 ],
 "metadata": {
  "kernelspec": {
   "display_name": "Python 3",
   "language": "python",
   "name": "python3"
  },
  "language_info": {
   "codemirror_mode": {
    "name": "ipython",
    "version": 3
   },
   "file_extension": ".py",
   "mimetype": "text/x-python",
   "name": "python",
   "nbconvert_exporter": "python",
   "pygments_lexer": "ipython3",
   "version": "3.8.8"
  }
 },
 "nbformat": 4,
 "nbformat_minor": 5
}
